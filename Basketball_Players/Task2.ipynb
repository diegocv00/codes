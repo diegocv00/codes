{
 "cells": [
  {
   "cell_type": "markdown",
   "metadata": {
    "collapsed": true
   },
   "source": [
    "# Análisis Exploratorio de Datos (1) de una base de datos con jugadores de la NBA desde 1950"
   ]
  },
  {
   "cell_type": "markdown",
   "metadata": {},
   "source": [
    "Importar librerías"
   ]
  },
  {
   "cell_type": "code",
   "execution_count": 1,
   "metadata": {},
   "outputs": [],
   "source": [
    "import pandas as pd\n",
    "import matplotlib.pyplot as plt\n",
    "%matplotlib inline"
   ]
  },
  {
   "cell_type": "markdown",
   "metadata": {},
   "source": [
    "Lectura del archivo"
   ]
  },
  {
   "cell_type": "code",
   "execution_count": 2,
   "metadata": {},
   "outputs": [],
   "source": [
    "bd = pd.read_csv(\"player_data.csv\",delimiter=',',low_memory=False)"
   ]
  },
  {
   "cell_type": "markdown",
   "metadata": {},
   "source": [
    "## Pre-proceso inicial"
   ]
  },
  {
   "cell_type": "markdown",
   "metadata": {},
   "source": [
    "Filtro variables de interés "
   ]
  },
  {
   "cell_type": "code",
   "execution_count": 5,
   "metadata": {},
   "outputs": [
    {
     "data": {
      "text/html": [
       "<div>\n",
       "<style scoped>\n",
       "    .dataframe tbody tr th:only-of-type {\n",
       "        vertical-align: middle;\n",
       "    }\n",
       "\n",
       "    .dataframe tbody tr th {\n",
       "        vertical-align: top;\n",
       "    }\n",
       "\n",
       "    .dataframe thead th {\n",
       "        text-align: right;\n",
       "    }\n",
       "</style>\n",
       "<table border=\"1\" class=\"dataframe\">\n",
       "  <thead>\n",
       "    <tr style=\"text-align: right;\">\n",
       "      <th></th>\n",
       "      <th>name</th>\n",
       "      <th>position</th>\n",
       "      <th>height</th>\n",
       "      <th>weight</th>\n",
       "      <th>birth_date</th>\n",
       "      <th>college</th>\n",
       "    </tr>\n",
       "  </thead>\n",
       "  <tbody>\n",
       "    <tr>\n",
       "      <th>0</th>\n",
       "      <td>Alaa Abdelnaby</td>\n",
       "      <td>F-C</td>\n",
       "      <td>6-10</td>\n",
       "      <td>240.0</td>\n",
       "      <td>June 24, 1968</td>\n",
       "      <td>Duke University</td>\n",
       "    </tr>\n",
       "    <tr>\n",
       "      <th>1</th>\n",
       "      <td>Zaid Abdul-Aziz</td>\n",
       "      <td>C-F</td>\n",
       "      <td>6-9</td>\n",
       "      <td>235.0</td>\n",
       "      <td>April 7, 1946</td>\n",
       "      <td>Iowa State University</td>\n",
       "    </tr>\n",
       "    <tr>\n",
       "      <th>2</th>\n",
       "      <td>Kareem Abdul-Jabbar</td>\n",
       "      <td>C</td>\n",
       "      <td>7-2</td>\n",
       "      <td>225.0</td>\n",
       "      <td>April 16, 1947</td>\n",
       "      <td>University of California, Los Angeles</td>\n",
       "    </tr>\n",
       "    <tr>\n",
       "      <th>3</th>\n",
       "      <td>Mahmoud Abdul-Rauf</td>\n",
       "      <td>G</td>\n",
       "      <td>6-1</td>\n",
       "      <td>162.0</td>\n",
       "      <td>March 9, 1969</td>\n",
       "      <td>Louisiana State University</td>\n",
       "    </tr>\n",
       "    <tr>\n",
       "      <th>4</th>\n",
       "      <td>Tariq Abdul-Wahad</td>\n",
       "      <td>F</td>\n",
       "      <td>6-6</td>\n",
       "      <td>223.0</td>\n",
       "      <td>November 3, 1974</td>\n",
       "      <td>San Jose State University</td>\n",
       "    </tr>\n",
       "    <tr>\n",
       "      <th>...</th>\n",
       "      <td>...</td>\n",
       "      <td>...</td>\n",
       "      <td>...</td>\n",
       "      <td>...</td>\n",
       "      <td>...</td>\n",
       "      <td>...</td>\n",
       "    </tr>\n",
       "    <tr>\n",
       "      <th>4545</th>\n",
       "      <td>Ante Zizic</td>\n",
       "      <td>F-C</td>\n",
       "      <td>6-11</td>\n",
       "      <td>250.0</td>\n",
       "      <td>January 4, 1997</td>\n",
       "      <td>NaN</td>\n",
       "    </tr>\n",
       "    <tr>\n",
       "      <th>4546</th>\n",
       "      <td>Jim Zoet</td>\n",
       "      <td>C</td>\n",
       "      <td>7-1</td>\n",
       "      <td>240.0</td>\n",
       "      <td>December 20, 1953</td>\n",
       "      <td>Kent State University</td>\n",
       "    </tr>\n",
       "    <tr>\n",
       "      <th>4547</th>\n",
       "      <td>Bill Zopf</td>\n",
       "      <td>G</td>\n",
       "      <td>6-1</td>\n",
       "      <td>170.0</td>\n",
       "      <td>June 7, 1948</td>\n",
       "      <td>Duquesne University</td>\n",
       "    </tr>\n",
       "    <tr>\n",
       "      <th>4548</th>\n",
       "      <td>Ivica Zubac</td>\n",
       "      <td>C</td>\n",
       "      <td>7-1</td>\n",
       "      <td>265.0</td>\n",
       "      <td>March 18, 1997</td>\n",
       "      <td>NaN</td>\n",
       "    </tr>\n",
       "    <tr>\n",
       "      <th>4549</th>\n",
       "      <td>Matt Zunic</td>\n",
       "      <td>G-F</td>\n",
       "      <td>6-3</td>\n",
       "      <td>195.0</td>\n",
       "      <td>December 19, 1919</td>\n",
       "      <td>George Washington University</td>\n",
       "    </tr>\n",
       "  </tbody>\n",
       "</table>\n",
       "<p>4550 rows × 6 columns</p>\n",
       "</div>"
      ],
      "text/plain": [
       "                     name position height  weight         birth_date  \\\n",
       "0          Alaa Abdelnaby      F-C   6-10   240.0      June 24, 1968   \n",
       "1         Zaid Abdul-Aziz      C-F    6-9   235.0      April 7, 1946   \n",
       "2     Kareem Abdul-Jabbar        C    7-2   225.0     April 16, 1947   \n",
       "3      Mahmoud Abdul-Rauf        G    6-1   162.0      March 9, 1969   \n",
       "4       Tariq Abdul-Wahad        F    6-6   223.0   November 3, 1974   \n",
       "...                   ...      ...    ...     ...                ...   \n",
       "4545           Ante Zizic      F-C   6-11   250.0    January 4, 1997   \n",
       "4546             Jim Zoet        C    7-1   240.0  December 20, 1953   \n",
       "4547            Bill Zopf        G    6-1   170.0       June 7, 1948   \n",
       "4548          Ivica Zubac        C    7-1   265.0     March 18, 1997   \n",
       "4549           Matt Zunic      G-F    6-3   195.0  December 19, 1919   \n",
       "\n",
       "                                    college  \n",
       "0                           Duke University  \n",
       "1                     Iowa State University  \n",
       "2     University of California, Los Angeles  \n",
       "3                Louisiana State University  \n",
       "4                 San Jose State University  \n",
       "...                                     ...  \n",
       "4545                                    NaN  \n",
       "4546                  Kent State University  \n",
       "4547                    Duquesne University  \n",
       "4548                                    NaN  \n",
       "4549           George Washington University  \n",
       "\n",
       "[4550 rows x 6 columns]"
      ]
     },
     "execution_count": 5,
     "metadata": {},
     "output_type": "execute_result"
    }
   ],
   "source": [
    "bd=bd[['name','position','height','weight','birth_date','college']]"
   ]
  },
  {
   "cell_type": "raw",
   "metadata": {},
   "source": [
    "Se seleccionan 7 universidades y 3 posiciones de interés"
   ]
  },
  {
   "cell_type": "code",
   "execution_count": 20,
   "metadata": {},
   "outputs": [
    {
     "data": {
      "text/html": [
       "<div>\n",
       "<style scoped>\n",
       "    .dataframe tbody tr th:only-of-type {\n",
       "        vertical-align: middle;\n",
       "    }\n",
       "\n",
       "    .dataframe tbody tr th {\n",
       "        vertical-align: top;\n",
       "    }\n",
       "\n",
       "    .dataframe thead th {\n",
       "        text-align: right;\n",
       "    }\n",
       "</style>\n",
       "<table border=\"1\" class=\"dataframe\">\n",
       "  <thead>\n",
       "    <tr style=\"text-align: right;\">\n",
       "      <th></th>\n",
       "      <th>name</th>\n",
       "      <th>position</th>\n",
       "      <th>height</th>\n",
       "      <th>weight</th>\n",
       "      <th>birth_date</th>\n",
       "      <th>college</th>\n",
       "    </tr>\n",
       "  </thead>\n",
       "  <tbody>\n",
       "    <tr>\n",
       "      <th>3</th>\n",
       "      <td>Mahmoud Abdul-Rauf</td>\n",
       "      <td>G</td>\n",
       "      <td>6-1</td>\n",
       "      <td>162.0</td>\n",
       "      <td>March 9, 1969</td>\n",
       "      <td>Louisiana State University</td>\n",
       "    </tr>\n",
       "    <tr>\n",
       "      <th>70</th>\n",
       "      <td>Al-Farouq Aminu</td>\n",
       "      <td>F</td>\n",
       "      <td>6-9</td>\n",
       "      <td>220.0</td>\n",
       "      <td>September 21, 1990</td>\n",
       "      <td>Wake Forest University</td>\n",
       "    </tr>\n",
       "    <tr>\n",
       "      <th>77</th>\n",
       "      <td>Antonio Anderson</td>\n",
       "      <td>G</td>\n",
       "      <td>6-6</td>\n",
       "      <td>215.0</td>\n",
       "      <td>June 5, 1985</td>\n",
       "      <td>University of Memphis</td>\n",
       "    </tr>\n",
       "    <tr>\n",
       "      <th>81</th>\n",
       "      <td>Derek Anderson</td>\n",
       "      <td>G</td>\n",
       "      <td>6-5</td>\n",
       "      <td>194.0</td>\n",
       "      <td>July 18, 1974</td>\n",
       "      <td>University of Kentucky</td>\n",
       "    </tr>\n",
       "    <tr>\n",
       "      <th>131</th>\n",
       "      <td>Jay Arnette</td>\n",
       "      <td>G</td>\n",
       "      <td>6-2</td>\n",
       "      <td>175.0</td>\n",
       "      <td>December 19, 1938</td>\n",
       "      <td>University of Texas at Austin</td>\n",
       "    </tr>\n",
       "    <tr>\n",
       "      <th>...</th>\n",
       "      <td>...</td>\n",
       "      <td>...</td>\n",
       "      <td>...</td>\n",
       "      <td>...</td>\n",
       "      <td>...</td>\n",
       "      <td>...</td>\n",
       "    </tr>\n",
       "    <tr>\n",
       "      <th>4490</th>\n",
       "      <td>James Worthy</td>\n",
       "      <td>F</td>\n",
       "      <td>6-9</td>\n",
       "      <td>225.0</td>\n",
       "      <td>February 27, 1961</td>\n",
       "      <td>University of North Carolina</td>\n",
       "    </tr>\n",
       "    <tr>\n",
       "      <th>4510</th>\n",
       "      <td>Dennis Wuycik</td>\n",
       "      <td>F</td>\n",
       "      <td>6-6</td>\n",
       "      <td>215.0</td>\n",
       "      <td>March 29, 1950</td>\n",
       "      <td>University of North Carolina</td>\n",
       "    </tr>\n",
       "    <tr>\n",
       "      <th>4516</th>\n",
       "      <td>Wayne Yates</td>\n",
       "      <td>C</td>\n",
       "      <td>6-8</td>\n",
       "      <td>235.0</td>\n",
       "      <td>November 7, 1937</td>\n",
       "      <td>University of Memphis</td>\n",
       "    </tr>\n",
       "    <tr>\n",
       "      <th>4518</th>\n",
       "      <td>Rich Yonakor</td>\n",
       "      <td>F</td>\n",
       "      <td>6-9</td>\n",
       "      <td>220.0</td>\n",
       "      <td>October 3, 1958</td>\n",
       "      <td>University of North Carolina</td>\n",
       "    </tr>\n",
       "    <tr>\n",
       "      <th>4519</th>\n",
       "      <td>Danny Young</td>\n",
       "      <td>G</td>\n",
       "      <td>6-3</td>\n",
       "      <td>175.0</td>\n",
       "      <td>July 26, 1962</td>\n",
       "      <td>Wake Forest University</td>\n",
       "    </tr>\n",
       "  </tbody>\n",
       "</table>\n",
       "<p>237 rows × 6 columns</p>\n",
       "</div>"
      ],
      "text/plain": [
       "                    name position height  weight          birth_date  \\\n",
       "3     Mahmoud Abdul-Rauf        G    6-1   162.0       March 9, 1969   \n",
       "70       Al-Farouq Aminu        F    6-9   220.0  September 21, 1990   \n",
       "77      Antonio Anderson        G    6-6   215.0        June 5, 1985   \n",
       "81        Derek Anderson        G    6-5   194.0       July 18, 1974   \n",
       "131          Jay Arnette        G    6-2   175.0   December 19, 1938   \n",
       "...                  ...      ...    ...     ...                 ...   \n",
       "4490        James Worthy        F    6-9   225.0   February 27, 1961   \n",
       "4510       Dennis Wuycik        F    6-6   215.0      March 29, 1950   \n",
       "4516         Wayne Yates        C    6-8   235.0    November 7, 1937   \n",
       "4518        Rich Yonakor        F    6-9   220.0     October 3, 1958   \n",
       "4519         Danny Young        G    6-3   175.0       July 26, 1962   \n",
       "\n",
       "                            college  \n",
       "3        Louisiana State University  \n",
       "70           Wake Forest University  \n",
       "77            University of Memphis  \n",
       "81           University of Kentucky  \n",
       "131   University of Texas at Austin  \n",
       "...                             ...  \n",
       "4490   University of North Carolina  \n",
       "4510   University of North Carolina  \n",
       "4516          University of Memphis  \n",
       "4518   University of North Carolina  \n",
       "4519         Wake Forest University  \n",
       "\n",
       "[237 rows x 6 columns]"
      ]
     },
     "execution_count": 20,
     "metadata": {},
     "output_type": "execute_result"
    }
   ],
   "source": [
    "bd2=bd[(bd['college'].isin(['University of North Carolina','Davidson College','University of Texas at Austin','Wake Forest University','University of Kentucky','Arizon State University','Louisiana State University','University of Memphis']))&\\\n",
    "       (bd['position'].isin(['C','F','G',]))]\n",
    "\n",
    "bd2"
   ]
  },
  {
   "cell_type": "markdown",
   "metadata": {},
   "source": [
    "# Exploración de Variables\n",
    "Los datos (variables) son características observables de los individuos de una población. Éstas variables pueden ser:\n",
    "\n",
    "* __CUALITATIVAS__: etiquetas (numéricas o no) que representan el grupo o categoría al cual pertenece un individuo. Se puede diferenciar entre nominales y ordinales.\n",
    "\n",
    "* __CUANTITATIVAS__: valores numéricos para los cuales tiene sentido hacer aritmética. Se puede diferenciar entre valores enteros  (discretos) y valores medidos en cierta escala (continuos).\n"
   ]
  },
  {
   "cell_type": "markdown",
   "metadata": {},
   "source": [
    "## Exploración de Variables Cualitativas\n",
    "* Número de casos disponibles\n",
    "* Número de categorías\n",
    "* Frecuencias relativas\n",
    "* Frecuencias absolutas\n",
    "* Frec. relativa acumulada\n",
    "* Frec. absoluta acumulada"
   ]
  },
  {
   "cell_type": "markdown",
   "metadata": {},
   "source": [
    "Calcular número máximo de registros"
   ]
  },
  {
   "cell_type": "code",
   "execution_count": 21,
   "metadata": {},
   "outputs": [
    {
     "data": {
      "text/plain": [
       "237"
      ]
     },
     "execution_count": 21,
     "metadata": {},
     "output_type": "execute_result"
    }
   ],
   "source": [
    "bd2.count().max()"
   ]
  },
  {
   "cell_type": "markdown",
   "metadata": {},
   "source": [
    "Calcular cantidad de universidades"
   ]
  },
  {
   "cell_type": "code",
   "execution_count": 22,
   "metadata": {},
   "outputs": [
    {
     "data": {
      "text/plain": [
       "7"
      ]
     },
     "execution_count": 22,
     "metadata": {},
     "output_type": "execute_result"
    }
   ],
   "source": [
    "bd2[\"college\"].drop_duplicates().count()"
   ]
  },
  {
   "cell_type": "markdown",
   "metadata": {},
   "source": [
    "Cantidad de registros por columna agrupados por universidad"
   ]
  },
  {
   "cell_type": "code",
   "execution_count": 24,
   "metadata": {},
   "outputs": [
    {
     "data": {
      "text/html": [
       "<div>\n",
       "<style scoped>\n",
       "    .dataframe tbody tr th:only-of-type {\n",
       "        vertical-align: middle;\n",
       "    }\n",
       "\n",
       "    .dataframe tbody tr th {\n",
       "        vertical-align: top;\n",
       "    }\n",
       "\n",
       "    .dataframe thead th {\n",
       "        text-align: right;\n",
       "    }\n",
       "</style>\n",
       "<table border=\"1\" class=\"dataframe\">\n",
       "  <thead>\n",
       "    <tr style=\"text-align: right;\">\n",
       "      <th></th>\n",
       "      <th>name</th>\n",
       "      <th>position</th>\n",
       "      <th>height</th>\n",
       "      <th>weight</th>\n",
       "      <th>birth_date</th>\n",
       "    </tr>\n",
       "    <tr>\n",
       "      <th>college</th>\n",
       "      <th></th>\n",
       "      <th></th>\n",
       "      <th></th>\n",
       "      <th></th>\n",
       "      <th></th>\n",
       "    </tr>\n",
       "  </thead>\n",
       "  <tbody>\n",
       "    <tr>\n",
       "      <th>Davidson College</th>\n",
       "      <td>3</td>\n",
       "      <td>3</td>\n",
       "      <td>3</td>\n",
       "      <td>3</td>\n",
       "      <td>3</td>\n",
       "    </tr>\n",
       "    <tr>\n",
       "      <th>Louisiana State University</th>\n",
       "      <td>32</td>\n",
       "      <td>32</td>\n",
       "      <td>32</td>\n",
       "      <td>32</td>\n",
       "      <td>32</td>\n",
       "    </tr>\n",
       "    <tr>\n",
       "      <th>University of Kentucky</th>\n",
       "      <td>76</td>\n",
       "      <td>76</td>\n",
       "      <td>76</td>\n",
       "      <td>76</td>\n",
       "      <td>76</td>\n",
       "    </tr>\n",
       "    <tr>\n",
       "      <th>University of Memphis</th>\n",
       "      <td>25</td>\n",
       "      <td>25</td>\n",
       "      <td>25</td>\n",
       "      <td>25</td>\n",
       "      <td>25</td>\n",
       "    </tr>\n",
       "    <tr>\n",
       "      <th>University of North Carolina</th>\n",
       "      <td>53</td>\n",
       "      <td>53</td>\n",
       "      <td>53</td>\n",
       "      <td>53</td>\n",
       "      <td>53</td>\n",
       "    </tr>\n",
       "    <tr>\n",
       "      <th>University of Texas at Austin</th>\n",
       "      <td>23</td>\n",
       "      <td>23</td>\n",
       "      <td>23</td>\n",
       "      <td>23</td>\n",
       "      <td>23</td>\n",
       "    </tr>\n",
       "    <tr>\n",
       "      <th>Wake Forest University</th>\n",
       "      <td>25</td>\n",
       "      <td>25</td>\n",
       "      <td>25</td>\n",
       "      <td>25</td>\n",
       "      <td>25</td>\n",
       "    </tr>\n",
       "  </tbody>\n",
       "</table>\n",
       "</div>"
      ],
      "text/plain": [
       "                               name  position  height  weight  birth_date\n",
       "college                                                                  \n",
       "Davidson College                  3         3       3       3           3\n",
       "Louisiana State University       32        32      32      32          32\n",
       "University of Kentucky           76        76      76      76          76\n",
       "University of Memphis            25        25      25      25          25\n",
       "University of North Carolina     53        53      53      53          53\n",
       "University of Texas at Austin    23        23      23      23          23\n",
       "Wake Forest University           25        25      25      25          25"
      ]
     },
     "execution_count": 24,
     "metadata": {},
     "output_type": "execute_result"
    }
   ],
   "source": [
    "bd2.groupby([\"college\"]).count()"
   ]
  },
  {
   "cell_type": "markdown",
   "metadata": {},
   "source": [
    "Cantidad y porcentaje de jugadores por universidad"
   ]
  },
  {
   "cell_type": "code",
   "execution_count": 25,
   "metadata": {},
   "outputs": [
    {
     "data": {
      "text/html": [
       "<div>\n",
       "<style scoped>\n",
       "    .dataframe tbody tr th:only-of-type {\n",
       "        vertical-align: middle;\n",
       "    }\n",
       "\n",
       "    .dataframe tbody tr th {\n",
       "        vertical-align: top;\n",
       "    }\n",
       "\n",
       "    .dataframe thead th {\n",
       "        text-align: right;\n",
       "    }\n",
       "</style>\n",
       "<table border=\"1\" class=\"dataframe\">\n",
       "  <thead>\n",
       "    <tr style=\"text-align: right;\">\n",
       "      <th></th>\n",
       "      <th>college</th>\n",
       "      <th>n</th>\n",
       "      <th>p</th>\n",
       "    </tr>\n",
       "  </thead>\n",
       "  <tbody>\n",
       "    <tr>\n",
       "      <th>0</th>\n",
       "      <td>University of Kentucky</td>\n",
       "      <td>76</td>\n",
       "      <td>32.067511</td>\n",
       "    </tr>\n",
       "    <tr>\n",
       "      <th>1</th>\n",
       "      <td>University of North Carolina</td>\n",
       "      <td>53</td>\n",
       "      <td>22.362869</td>\n",
       "    </tr>\n",
       "    <tr>\n",
       "      <th>2</th>\n",
       "      <td>Louisiana State University</td>\n",
       "      <td>32</td>\n",
       "      <td>13.502110</td>\n",
       "    </tr>\n",
       "    <tr>\n",
       "      <th>3</th>\n",
       "      <td>University of Memphis</td>\n",
       "      <td>25</td>\n",
       "      <td>10.548523</td>\n",
       "    </tr>\n",
       "    <tr>\n",
       "      <th>4</th>\n",
       "      <td>Wake Forest University</td>\n",
       "      <td>25</td>\n",
       "      <td>10.548523</td>\n",
       "    </tr>\n",
       "    <tr>\n",
       "      <th>5</th>\n",
       "      <td>University of Texas at Austin</td>\n",
       "      <td>23</td>\n",
       "      <td>9.704641</td>\n",
       "    </tr>\n",
       "    <tr>\n",
       "      <th>6</th>\n",
       "      <td>Davidson College</td>\n",
       "      <td>3</td>\n",
       "      <td>1.265823</td>\n",
       "    </tr>\n",
       "  </tbody>\n",
       "</table>\n",
       "</div>"
      ],
      "text/plain": [
       "                         college   n          p\n",
       "0         University of Kentucky  76  32.067511\n",
       "1   University of North Carolina  53  22.362869\n",
       "2     Louisiana State University  32  13.502110\n",
       "3          University of Memphis  25  10.548523\n",
       "4         Wake Forest University  25  10.548523\n",
       "5  University of Texas at Austin  23   9.704641\n",
       "6               Davidson College   3   1.265823"
      ]
     },
     "execution_count": 25,
     "metadata": {},
     "output_type": "execute_result"
    }
   ],
   "source": [
    "pdf1=bd2.groupby('college').size().reset_index(name='n').sort_values(by='n', ascending=False).reset_index(drop=True)\n",
    "pdf1['p']=pdf1['n']*100/(bd2.count().max())\n",
    "pdf1"
   ]
  },
  {
   "cell_type": "markdown",
   "metadata": {},
   "source": [
    "## Representación gráfica de Variables Cualitativas\n"
   ]
  },
  {
   "cell_type": "markdown",
   "metadata": {},
   "source": [
    "Total de jugadores por universidad"
   ]
  },
  {
   "cell_type": "code",
   "execution_count": 26,
   "metadata": {},
   "outputs": [
    {
     "data": {
      "text/html": [
       "<div>\n",
       "<style scoped>\n",
       "    .dataframe tbody tr th:only-of-type {\n",
       "        vertical-align: middle;\n",
       "    }\n",
       "\n",
       "    .dataframe tbody tr th {\n",
       "        vertical-align: top;\n",
       "    }\n",
       "\n",
       "    .dataframe thead th {\n",
       "        text-align: right;\n",
       "    }\n",
       "</style>\n",
       "<table border=\"1\" class=\"dataframe\">\n",
       "  <thead>\n",
       "    <tr style=\"text-align: right;\">\n",
       "      <th></th>\n",
       "      <th>college</th>\n",
       "      <th>n</th>\n",
       "    </tr>\n",
       "  </thead>\n",
       "  <tbody>\n",
       "    <tr>\n",
       "      <th>0</th>\n",
       "      <td>University of Kentucky</td>\n",
       "      <td>76</td>\n",
       "    </tr>\n",
       "    <tr>\n",
       "      <th>1</th>\n",
       "      <td>University of North Carolina</td>\n",
       "      <td>53</td>\n",
       "    </tr>\n",
       "    <tr>\n",
       "      <th>2</th>\n",
       "      <td>Louisiana State University</td>\n",
       "      <td>32</td>\n",
       "    </tr>\n",
       "    <tr>\n",
       "      <th>3</th>\n",
       "      <td>University of Memphis</td>\n",
       "      <td>25</td>\n",
       "    </tr>\n",
       "    <tr>\n",
       "      <th>4</th>\n",
       "      <td>Wake Forest University</td>\n",
       "      <td>25</td>\n",
       "    </tr>\n",
       "    <tr>\n",
       "      <th>5</th>\n",
       "      <td>University of Texas at Austin</td>\n",
       "      <td>23</td>\n",
       "    </tr>\n",
       "    <tr>\n",
       "      <th>6</th>\n",
       "      <td>Davidson College</td>\n",
       "      <td>3</td>\n",
       "    </tr>\n",
       "  </tbody>\n",
       "</table>\n",
       "</div>"
      ],
      "text/plain": [
       "                         college   n\n",
       "0         University of Kentucky  76\n",
       "1   University of North Carolina  53\n",
       "2     Louisiana State University  32\n",
       "3          University of Memphis  25\n",
       "4         Wake Forest University  25\n",
       "5  University of Texas at Austin  23\n",
       "6               Davidson College   3"
      ]
     },
     "execution_count": 26,
     "metadata": {},
     "output_type": "execute_result"
    }
   ],
   "source": [
    "pdf1=bd2.groupby('college').size().reset_index(name='n').sort_values(by='n', ascending=False).reset_index(drop=True)\n",
    "pdf1"
   ]
  },
  {
   "cell_type": "markdown",
   "metadata": {},
   "source": [
    "Gráfica de barras vertical"
   ]
  },
  {
   "cell_type": "code",
   "execution_count": 27,
   "metadata": {},
   "outputs": [
    {
     "data": {
      "text/plain": [
       "<AxesSubplot:xlabel='college'>"
      ]
     },
     "execution_count": 27,
     "metadata": {},
     "output_type": "execute_result"
    },
    {
     "data": {
      "image/png": "[encoded data removed]",
      "text/plain": [
       "<Figure size 432x288 with 1 Axes>"
      ]
     },
     "metadata": {
      "needs_background": "light"
     },
     "output_type": "display_data"
    }
   ],
   "source": [
    "pdf1.plot(kind='bar',x='college',y='n')"
   ]
  },
  {
   "cell_type": "markdown",
   "metadata": {},
   "source": [
    "Gráfica de barras horizontal"
   ]
  },
  {
   "cell_type": "code",
   "execution_count": 29,
   "metadata": {},
   "outputs": [
    {
     "data": {
      "text/plain": [
       "<AxesSubplot:ylabel='college'>"
      ]
     },
     "execution_count": 29,
     "metadata": {},
     "output_type": "execute_result"
    },
    {
     "data": {
      "image/png": "[encoded data removed]",
      "text/plain": [
       "<Figure size 432x288 with 1 Axes>"
      ]
     },
     "metadata": {
      "needs_background": "light"
     },
     "output_type": "display_data"
    }
   ],
   "source": [
    "pdf1.plot(kind='barh',x='college',y='n')"
   ]
  },
  {
   "cell_type": "markdown",
   "metadata": {},
   "source": [
    "Gráfica de torta"
   ]
  },
  {
   "cell_type": "code",
   "execution_count": 30,
   "metadata": {},
   "outputs": [
    {
     "data": {
      "text/plain": [
       "<AxesSubplot:ylabel='n'>"
      ]
     },
     "execution_count": 30,
     "metadata": {},
     "output_type": "execute_result"
    },
    {
     "data": {
      "image/png": "[encoded data removed]",
      "text/plain": [
       "<Figure size 432x288 with 1 Axes>"
      ]
     },
     "metadata": {},
     "output_type": "display_data"
    }
   ],
   "source": [
    "pdf1.plot.pie(y='n',labels=pdf1['college'])"
   ]
  },
  {
   "cell_type": "markdown",
   "metadata": {},
   "source": [
    "## Exploración de Variables Cuantitativas\n",
    "\n",
    "* Número de casos disponibles\n",
    "* Medidas de localización\n",
    "  * Media: centro de masas\n",
    "  * Mediana: punto medio (50% de la muestra)\n",
    "* Medidas de dispersión  \n",
    "  * Varianza / desviación estándar\n",
    "  * Cuartiles Q3 y Q1 (25% y 75% de la muestra)\n",
    "  * Rango Intercuartílico: IQR = Q3 – Q1\n",
    "  * Rango = max – min\n",
    "* Valores extremos\n",
    "  * Máximo y Mínimo;  Top y Bottom\n",
    "  * Percentiles (1%, 99%)\n",
    "  * Porcentaje de casos 'por encima/debajo de'."
   ]
  },
  {
   "cell_type": "code",
   "execution_count": 31,
   "metadata": {},
   "outputs": [
    {
     "data": {
      "text/plain": [
       "count    237.000000\n",
       "mean     208.194093\n",
       "std       29.315863\n",
       "min      136.000000\n",
       "25%      185.000000\n",
       "50%      205.000000\n",
       "75%      225.000000\n",
       "max      325.000000\n",
       "Name: weight, dtype: float64"
      ]
     },
     "execution_count": 31,
     "metadata": {},
     "output_type": "execute_result"
    }
   ],
   "source": [
    "bd2['weight'].describe()"
   ]
  },
  {
   "cell_type": "markdown",
   "metadata": {},
   "source": [
    "Agrupar los registros por peso en orden descendente"
   ]
  },
  {
   "cell_type": "code",
   "execution_count": 33,
   "metadata": {},
   "outputs": [
    {
     "data": {
      "text/html": [
       "<div>\n",
       "<style scoped>\n",
       "    .dataframe tbody tr th:only-of-type {\n",
       "        vertical-align: middle;\n",
       "    }\n",
       "\n",
       "    .dataframe tbody tr th {\n",
       "        vertical-align: top;\n",
       "    }\n",
       "\n",
       "    .dataframe thead th {\n",
       "        text-align: right;\n",
       "    }\n",
       "</style>\n",
       "<table border=\"1\" class=\"dataframe\">\n",
       "  <thead>\n",
       "    <tr style=\"text-align: right;\">\n",
       "      <th></th>\n",
       "      <th>name</th>\n",
       "      <th>position</th>\n",
       "      <th>height</th>\n",
       "      <th>birth_date</th>\n",
       "      <th>college</th>\n",
       "    </tr>\n",
       "    <tr>\n",
       "      <th>weight</th>\n",
       "      <th></th>\n",
       "      <th></th>\n",
       "      <th></th>\n",
       "      <th></th>\n",
       "      <th></th>\n",
       "    </tr>\n",
       "  </thead>\n",
       "  <tbody>\n",
       "    <tr>\n",
       "      <th>325.0</th>\n",
       "      <td>Shaquille O'Neal</td>\n",
       "      <td>C</td>\n",
       "      <td>7-1</td>\n",
       "      <td>March 6, 1972</td>\n",
       "      <td>Louisiana State University</td>\n",
       "    </tr>\n",
       "    <tr>\n",
       "      <th>308.0</th>\n",
       "      <td>Dexter Pittman</td>\n",
       "      <td>C</td>\n",
       "      <td>6-11</td>\n",
       "      <td>March 2, 1988</td>\n",
       "      <td>University of Texas at Austin</td>\n",
       "    </tr>\n",
       "    <tr>\n",
       "      <th>285.0</th>\n",
       "      <td>Stanley Roberts</td>\n",
       "      <td>C</td>\n",
       "      <td>7-0</td>\n",
       "      <td>February 7, 1970</td>\n",
       "      <td>Louisiana State University</td>\n",
       "    </tr>\n",
       "    <tr>\n",
       "      <th>280.0</th>\n",
       "      <td>Geoff Crompton</td>\n",
       "      <td>C</td>\n",
       "      <td>6-11</td>\n",
       "      <td>July 4, 1955</td>\n",
       "      <td>University of North Carolina</td>\n",
       "    </tr>\n",
       "    <tr>\n",
       "      <th>275.0</th>\n",
       "      <td>Josh Harrellson</td>\n",
       "      <td>C</td>\n",
       "      <td>6-10</td>\n",
       "      <td>February 12, 1989</td>\n",
       "      <td>University of Kentucky</td>\n",
       "    </tr>\n",
       "    <tr>\n",
       "      <th>...</th>\n",
       "      <td>...</td>\n",
       "      <td>...</td>\n",
       "      <td>...</td>\n",
       "      <td>...</td>\n",
       "      <td>...</td>\n",
       "    </tr>\n",
       "    <tr>\n",
       "      <th>162.0</th>\n",
       "      <td>Mahmoud Abdul-Rauf</td>\n",
       "      <td>G</td>\n",
       "      <td>6-1</td>\n",
       "      <td>March 9, 1969</td>\n",
       "      <td>Louisiana State University</td>\n",
       "    </tr>\n",
       "    <tr>\n",
       "      <th>160.0</th>\n",
       "      <td>Larry Brown</td>\n",
       "      <td>G</td>\n",
       "      <td>6-2</td>\n",
       "      <td>September 7, 1949</td>\n",
       "      <td>Wake Forest University</td>\n",
       "    </tr>\n",
       "    <tr>\n",
       "      <th>156.0</th>\n",
       "      <td>Chris Garner</td>\n",
       "      <td>G</td>\n",
       "      <td>5-10</td>\n",
       "      <td>February 2, 1975</td>\n",
       "      <td>University of Memphis</td>\n",
       "    </tr>\n",
       "    <tr>\n",
       "      <th>150.0</th>\n",
       "      <td>Tyler Ulis</td>\n",
       "      <td>G</td>\n",
       "      <td>6-0</td>\n",
       "      <td>March 28, 1969</td>\n",
       "      <td>University of Memphis</td>\n",
       "    </tr>\n",
       "    <tr>\n",
       "      <th>136.0</th>\n",
       "      <td>Muggsy Bogues</td>\n",
       "      <td>G</td>\n",
       "      <td>5-3</td>\n",
       "      <td>January 9, 1965</td>\n",
       "      <td>Wake Forest University</td>\n",
       "    </tr>\n",
       "  </tbody>\n",
       "</table>\n",
       "<p>68 rows × 5 columns</p>\n",
       "</div>"
      ],
      "text/plain": [
       "                      name position height         birth_date  \\\n",
       "weight                                                          \n",
       "325.0     Shaquille O'Neal        C    7-1      March 6, 1972   \n",
       "308.0       Dexter Pittman        C   6-11      March 2, 1988   \n",
       "285.0      Stanley Roberts        C    7-0   February 7, 1970   \n",
       "280.0       Geoff Crompton        C   6-11       July 4, 1955   \n",
       "275.0      Josh Harrellson        C   6-10  February 12, 1989   \n",
       "...                    ...      ...    ...                ...   \n",
       "162.0   Mahmoud Abdul-Rauf        G    6-1      March 9, 1969   \n",
       "160.0          Larry Brown        G    6-2  September 7, 1949   \n",
       "156.0         Chris Garner        G   5-10   February 2, 1975   \n",
       "150.0           Tyler Ulis        G    6-0     March 28, 1969   \n",
       "136.0        Muggsy Bogues        G    5-3    January 9, 1965   \n",
       "\n",
       "                              college  \n",
       "weight                                 \n",
       "325.0      Louisiana State University  \n",
       "308.0   University of Texas at Austin  \n",
       "285.0      Louisiana State University  \n",
       "280.0    University of North Carolina  \n",
       "275.0          University of Kentucky  \n",
       "...                               ...  \n",
       "162.0      Louisiana State University  \n",
       "160.0          Wake Forest University  \n",
       "156.0           University of Memphis  \n",
       "150.0           University of Memphis  \n",
       "136.0          Wake Forest University  \n",
       "\n",
       "[68 rows x 5 columns]"
      ]
     },
     "execution_count": 33,
     "metadata": {},
     "output_type": "execute_result"
    }
   ],
   "source": [
    "bd2.groupby(['weight']).max().sort_values(['weight'],ascending=False)"
   ]
  },
  {
   "cell_type": "markdown",
   "metadata": {},
   "source": [
    "Calcular el percentil 95 del peso"
   ]
  },
  {
   "cell_type": "code",
   "execution_count": null,
   "metadata": {},
   "outputs": [],
   "source": [
    "bd2['ArrDelay'].quantile(0.95)"
   ]
  },
  {
   "cell_type": "markdown",
   "metadata": {},
   "source": [
    "## Representación gráfica de Variables Cuantitativas\n"
   ]
  },
  {
   "cell_type": "markdown",
   "metadata": {},
   "source": [
    "Sólo se representan los datos de una muestra"
   ]
  },
  {
   "cell_type": "code",
   "execution_count": null,
   "metadata": {},
   "outputs": [],
   "source": [
    "pdf2 = bd2[['ArrDelay']]\n",
    "pdf2"
   ]
  },
  {
   "cell_type": "code",
   "execution_count": null,
   "metadata": {},
   "outputs": [],
   "source": [
    "pdf2.plot.hist(bins=20)"
   ]
  },
  {
   "cell_type": "code",
   "execution_count": null,
   "metadata": {},
   "outputs": [],
   "source": [
    "pdf2.plot.box()"
   ]
  }
 ],
 "metadata": {
  "anaconda-cloud": {},
  "kernelspec": {
   "display_name": "Python 3",
   "language": "python",
   "name": "python3"
  },
  "language_info": {
   "codemirror_mode": {
    "name": "ipython",
    "version": 3
   },
   "file_extension": ".py",
   "mimetype": "text/x-python",
   "name": "python",
   "nbconvert_exporter": "python",
   "pygments_lexer": "ipython3",
   "version": "3.8.8"
  }
 },
 "nbformat": 4,
 "nbformat_minor": 2
}
