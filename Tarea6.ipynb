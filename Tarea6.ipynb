{
 "cells": [
  {
   "cell_type": "markdown",
   "metadata": {
    "collapsed": true
   },
   "source": [
    "# Modelo de Regresión Lineal "
   ]
  },
  {
   "cell_type": "code",
   "execution_count": null,
   "metadata": {},
   "outputs": [],
   "source": [
    "import pandas as pd\n",
    "import numpy as np"
   ]
  },
  {
   "cell_type": "code",
   "execution_count": null,
   "metadata": {},
   "outputs": [],
   "source": [
    "bd5 = pd.read_csv(\"Players.csv\",delimiter=',')\n",
    "bd5"
   ]
  },
  {
   "cell_type": "code",
   "execution_count": null,
   "metadata": {},
   "outputs": [],
   "source": [
    "bd5.loc[(bd5['weight']>50)&(bd5['weight']<=70),'peso'] = 1\n",
    "bd5.loc[(bd5['weight']>70)&(bd5['weight']<=90),'peso'] = 2\n",
    "bd5.loc[(bd5['weight']>90)&(bd5['weight']<=110),'peso'] = 3\n",
    "bd6=bd5.fillna({'peso':4})\n",
    "bd6=bd5.fillna({'birth_state':0})\n",
    "bd6=bd5.fillna({'collage':0})\n",
    "bd6=bd5.fillna({'birth_city':0})\n",
    "bd6"
   ]
  },
  {
   "cell_type": "markdown",
   "metadata": {},
   "source": [
    "## Creación de Nuevas Variables - Feature Extraction"
   ]
  },
  {
   "cell_type": "code",
   "execution_count": null,
   "metadata": {
    "scrolled": true
   },
   "outputs": [],
   "source": [
    "bd6['Peso1']=(bd5['peso']==1).astype('int')\n",
    "bd6['Peso2']=(bd5['peso']==2).astype('int')\n",
    "bd6['Peso3']=(bd5['peso']==3).astype('int')\n",
    "bd6['Peso4']=(bd5['peso']==4).astype('int')\n",
    "bd6.birth_city = bd6.birth_city.fillna(0)\n",
    "bd6.collage = bd6.collage.fillna(0)\n",
    "bd6.born = bd6.born.fillna(0)\n",
    "bd6.weight = bd6.weight.fillna(0)\n",
    "bd6.height = bd6.height.fillna(0)\n",
    "bd6.peso = bd6.peso.fillna(0)\n",
    "bd6.Player = bd6.Player.fillna(0)\n",
    "bd6.height = bd6.height.astype(int)\n",
    "bd6.weight = bd6.weight.astype(int)\n",
    "bd6.born = bd6.born.astype(int)\n",
    "bd6.peso = bd6.peso.astype(int)\n",
    "\n",
    "\n",
    "bd6\n",
    "\n"
   ]
  },
  {
   "cell_type": "markdown",
   "metadata": {},
   "source": [
    "### Creación manual de nuevas variables"
   ]
  },
  {
   "cell_type": "markdown",
   "metadata": {},
   "source": [
    "### Resumen Gráfico"
   ]
  },
  {
   "cell_type": "code",
   "execution_count": null,
   "metadata": {},
   "outputs": [],
   "source": [
    "import seaborn as sns\n",
    "import matplotlib.pyplot as plt\n",
    "%matplotlib inline\n",
    "sns.jointplot(x=\"height\", y=\"weight\", data=bd6)"
   ]
  },
  {
   "cell_type": "markdown",
   "metadata": {},
   "source": [
    "# Regresión Lineal Multivariable"
   ]
  },
  {
   "cell_type": "markdown",
   "metadata": {},
   "source": [
    "El objetivo de la regresión Lineal Multivariable es estimar los parámetros $(\\beta_0,\\beta_1,\\beta_2,...,\\beta_n)$ tal que el error cuadrático medio MSE entre los datos modelados $y_{model}$ y los datos observados $y_{obs}$ sea mínima.\n",
    "\n",
    "Los datos modelados se obtienen con la expresión:\n",
    "\n",
    "$y_{model}= \\beta_0 x_0+\\beta_1 x_1+\\beta_2 x_2 + ...+ \\beta_n x_n$\n",
    "\n",
    "Donde $(x_0,x_1,x_2,...,x_n)$ representan las características (features), normalmente expresadas como columnas."
   ]
  },
  {
   "cell_type": "markdown",
   "metadata": {},
   "source": [
    "### Configuración de la base de datos (Selección de variables)"
   ]
  },
  {
   "cell_type": "code",
   "execution_count": null,
   "metadata": {},
   "outputs": [],
   "source": [
    "X = bd6[['weight','born']]\n",
    "y = bd6[['height']]\n",
    "X.head()"
   ]
  },
  {
   "cell_type": "markdown",
   "metadata": {},
   "source": [
    "### Partición de datos\n",
    "\n",
    "- 70% Entrenamiento (train)\n",
    "- 30% Prueba (test)"
   ]
  },
  {
   "cell_type": "code",
   "execution_count": null,
   "metadata": {},
   "outputs": [],
   "source": [
    "from sklearn.model_selection import train_test_split\n",
    "\n",
    "train_ratio = 0.7\n",
    "test_ratio = 0.3\n",
    "\n",
    "X_train, X_test, y_train, y_test = train_test_split(X, y, test_size=test_ratio,random_state=42)\n",
    "y_train.describe()\n"
   ]
  },
  {
   "cell_type": "markdown",
   "metadata": {},
   "source": [
    "### Estandarización de variables"
   ]
  },
  {
   "cell_type": "code",
   "execution_count": null,
   "metadata": {},
   "outputs": [],
   "source": [
    "from sklearn.preprocessing import StandardScaler\n",
    "scaler = StandardScaler()\n",
    "scaler.fit(X_train)\n",
    "X_train= scaler.transform(X_train)\n",
    "X_test= scaler.transform(X_test)\n",
    "X_test"
   ]
  },
  {
   "cell_type": "markdown",
   "metadata": {},
   "source": [
    "### Ajuste del modelo"
   ]
  },
  {
   "cell_type": "code",
   "execution_count": null,
   "metadata": {},
   "outputs": [],
   "source": [
    "from sklearn.linear_model import LinearRegression\n",
    "model = LinearRegression().fit(X_train, y_train)\n"
   ]
  },
  {
   "cell_type": "markdown",
   "metadata": {},
   "source": [
    "### Coeficientes del modelo"
   ]
  },
  {
   "cell_type": "code",
   "execution_count": null,
   "metadata": {},
   "outputs": [],
   "source": [
    "print(\"model coefficients: {}\".format(model.coef_))\n",
    "print(\"model intercept: {}\".format(model.intercept_))"
   ]
  },
  {
   "cell_type": "markdown",
   "metadata": {},
   "source": [
    "### Resultado del modelo"
   ]
  },
  {
   "cell_type": "code",
   "execution_count": null,
   "metadata": {},
   "outputs": [],
   "source": [
    "print(\"Training set score: {:.4f} %\".format(100*model.score(X_train, y_train)))\n",
    "print(\"Test set score: {:.4f} %\".format(100*model.score(X_test, y_test)))"
   ]
  },
  {
   "cell_type": "markdown",
   "metadata": {},
   "source": [
    "### Representación gráfica de resultados"
   ]
  },
  {
   "cell_type": "code",
   "execution_count": null,
   "metadata": {},
   "outputs": [],
   "source": [
    "import matplotlib.pyplot as plt\n",
    "plt.plot(y_test[1:100].to_numpy())\n",
    "plt.plot(model.predict(X_test[1:100]))\n",
    "plt.legend(['Real', 'Prediccion'])"
   ]
  },
  {
   "cell_type": "code",
   "execution_count": null,
   "metadata": {},
   "outputs": [],
   "source": [
    "pred=y_test\n",
    "pred['prediction']=model.predict(X_test)\n",
    "sns.jointplot(x=\"prediction\", y=\"height\", data=pred)"
   ]
  },
  {
   "cell_type": "code",
   "execution_count": null,
   "metadata": {},
   "outputs": [],
   "source": [
    "pred['residual']=pred['height']-pred['prediction']\n",
    "sns.jointplot(x=\"prediction\", y=\"residual\", data=pred)"
   ]
  },
  {
   "cell_type": "markdown",
   "metadata": {},
   "source": [
    "# Regresión Lineal Multivariable Regularizada"
   ]
  },
  {
   "cell_type": "markdown",
   "metadata": {},
   "source": [
    "Para el caso de la Regresión Lineal Multivariable Regularizada, los datos modelados se obtienen de la siguiente forma:\n",
    "$y_{model}= \\beta_0 x_0+\\beta_1 x_1+\\beta_2 x_2 + ...+ \\beta_n x_n + \\alpha(\\beta_0+\\beta_1+\\beta_2+ ...+ \\beta_n)$\n",
    "\n",
    "El parámetro $\\alpha$ permite controlar la complejidad del modelo."
   ]
  },
  {
   "cell_type": "markdown",
   "metadata": {},
   "source": [
    "### Creación de variables polinómicas"
   ]
  },
  {
   "cell_type": "code",
   "execution_count": null,
   "metadata": {},
   "outputs": [],
   "source": [
    "from sklearn.preprocessing import PolynomialFeatures\n",
    "poly = PolynomialFeatures(3)\n",
    "X=poly.fit_transform(X)"
   ]
  },
  {
   "cell_type": "markdown",
   "metadata": {},
   "source": [
    "### Partición de datos\n",
    "\n",
    "- 60% Entrenamiento (train)\n",
    "- 20% Validación (validation)\n",
    "- 20% Prueba (test)"
   ]
  },
  {
   "cell_type": "code",
   "execution_count": null,
   "metadata": {},
   "outputs": [],
   "source": [
    "from sklearn.model_selection import train_test_split\n",
    "\n",
    "train_ratio = 0.6\n",
    "validation_ratio = 0.2\n",
    "test_ratio = 0.2\n",
    "\n",
    "X_train, X_test, y_train, y_test = train_test_split(X, y, test_size=1 - train_ratio)\n",
    "X_val, X_test, y_val, y_test = train_test_split(X_test, y_test, test_size=test_ratio/(test_ratio + validation_ratio))"
   ]
  },
  {
   "cell_type": "markdown",
   "metadata": {},
   "source": [
    "### Estandarización de variables"
   ]
  },
  {
   "cell_type": "code",
   "execution_count": null,
   "metadata": {},
   "outputs": [],
   "source": [
    "from sklearn.preprocessing import StandardScaler\n",
    "scaler = StandardScaler()\n",
    "scaler.fit(X_train)\n",
    "X_train= scaler.transform(X_train)\n",
    "X_test= scaler.transform(X_test)\n",
    "X_val= scaler.transform(X_val)"
   ]
  },
  {
   "cell_type": "markdown",
   "metadata": {},
   "source": [
    "### Ajuste de modelos para validación"
   ]
  },
  {
   "cell_type": "code",
   "execution_count": null,
   "metadata": {},
   "outputs": [],
   "source": [
    "from sklearn.linear_model import Ridge\n",
    "model_1 = Ridge(alpha=0.1).fit(X_train, y_train)\n",
    "model_2 = Ridge(alpha=1).fit(X_train, y_train)\n",
    "model_3 = Ridge(alpha=10).fit(X_train, y_train)\n",
    "model_4 = Ridge(alpha=100).fit(X_train, y_train)"
   ]
  },
  {
   "cell_type": "markdown",
   "metadata": {},
   "source": [
    "### Resultados del entrenamiento"
   ]
  },
  {
   "cell_type": "code",
   "execution_count": null,
   "metadata": {},
   "outputs": [],
   "source": [
    "print(\"Training set score model_1: {:.4f} %\".format(100*model_1.score(X_train, y_train)))\n",
    "print(\"Training set score model_2: {:.4f} %\".format(100*model_2.score(X_train, y_train)))\n",
    "print(\"Training set score model_3: {:.4f} %\".format(100*model_3.score(X_train, y_train)))\n",
    "print(\"Training set score model_4: {:.4f} %\".format(100*model_4.score(X_train, y_train)))"
   ]
  },
  {
   "cell_type": "markdown",
   "metadata": {},
   "source": [
    "### Resultado de validación"
   ]
  },
  {
   "cell_type": "code",
   "execution_count": null,
   "metadata": {},
   "outputs": [],
   "source": [
    "print(\"Validation set score model_1: {:.4f} %\".format(100*model_1.score(X_val, y_val)))\n",
    "print(\"Validation set score model_2: {:.4f} %\".format(100*model_2.score(X_val, y_val)))\n",
    "print(\"Validation set score model_3: {:.4f} %\".format(100*model_3.score(X_val, y_val)))\n",
    "print(\"Validation set score model_4: {:.4f} %\".format(100*model_4.score(X_val, y_val)))"
   ]
  },
  {
   "cell_type": "markdown",
   "metadata": {},
   "source": [
    "### Resultado del modelo final"
   ]
  },
  {
   "cell_type": "code",
   "execution_count": null,
   "metadata": {},
   "outputs": [],
   "source": [
    "model_final=model_1\n",
    "print(\"Training set score: {:.2f} %\".format(100*model_final.score(X_train, y_train)))\n",
    "print(\"Validation set score: {:.2f} %\".format(100*model_final.score(X_val, y_val)))\n",
    "print(\"Test set score: {:.2f} %\".format(100*model_final.score(X_test, y_test)))"
   ]
  }
 ],
 "metadata": {
  "anaconda-cloud": {},
  "kernelspec": {
   "display_name": "Python 3",
   "language": "python",
   "name": "python3"
  },
  "language_info": {
   "codemirror_mode": {
    "name": "ipython",
    "version": 3
   },
   "file_extension": ".py",
   "mimetype": "text/x-python",
   "name": "python",
   "nbconvert_exporter": "python",
   "pygments_lexer": "ipython3",
   "version": "3.8.8"
  }
 },
 "nbformat": 4,
 "nbformat_minor": 2
}
