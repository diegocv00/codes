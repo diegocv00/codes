{
 "cells": [
  {
   "cell_type": "markdown",
   "metadata": {
    "collapsed": true
   },
   "source": [
    "# Análisis Exploratorio de Datos (2)\n",
    "\n",
    "## Exploración de relaciones\n",
    "\n",
    "Desde un punto de vista conceptual:\n",
    "\n",
    "* Variable Respuesta vs Variables explicativas\n",
    "* Variables Explicativas vs Otras variables Explicativas\n",
    "* Variable Respuesta vs Otras variables Respuesta\n",
    "\n",
    "Desde un punto de vista práctico:\n",
    "\n",
    "* Variable Cualitativa vs Variable Cualitativa\n",
    "* Variable Continua vs Variable Cualitativa\n",
    "* Variable Continua vs Variable Continua"
   ]
  },
  {
   "cell_type": "markdown",
   "metadata": {},
   "source": [
    "Importar librerías y cargar datos"
   ]
  },
  {
   "cell_type": "code",
   "execution_count": 1,
   "metadata": {},
   "outputs": [],
   "source": [
    "import pandas as pd"
   ]
  },
  {
   "cell_type": "code",
   "execution_count": 2,
   "metadata": {},
   "outputs": [
    {
     "data": {
      "text/html": [
       "<div>\n",
       "<style scoped>\n",
       "    .dataframe tbody tr th:only-of-type {\n",
       "        vertical-align: middle;\n",
       "    }\n",
       "\n",
       "    .dataframe tbody tr th {\n",
       "        vertical-align: top;\n",
       "    }\n",
       "\n",
       "    .dataframe thead th {\n",
       "        text-align: right;\n",
       "    }\n",
       "</style>\n",
       "<table border=\"1\" class=\"dataframe\">\n",
       "  <thead>\n",
       "    <tr style=\"text-align: right;\">\n",
       "      <th></th>\n",
       "      <th>name</th>\n",
       "      <th>year_start</th>\n",
       "      <th>year_end</th>\n",
       "      <th>position</th>\n",
       "      <th>height</th>\n",
       "      <th>weight</th>\n",
       "      <th>birth_date</th>\n",
       "      <th>college</th>\n",
       "      <th>AñosActivo</th>\n",
       "      <th>peso</th>\n",
       "    </tr>\n",
       "  </thead>\n",
       "  <tbody>\n",
       "    <tr>\n",
       "      <th>0</th>\n",
       "      <td>Antonio Anderson</td>\n",
       "      <td>2010.0</td>\n",
       "      <td>2010.0</td>\n",
       "      <td>G</td>\n",
       "      <td>6-6</td>\n",
       "      <td>215.0</td>\n",
       "      <td>June 5, 1985</td>\n",
       "      <td>University of Memphis</td>\n",
       "      <td>0.0</td>\n",
       "      <td>3.0</td>\n",
       "    </tr>\n",
       "    <tr>\n",
       "      <th>1</th>\n",
       "      <td>Kelenna Azubuike</td>\n",
       "      <td>2007.0</td>\n",
       "      <td>2012.0</td>\n",
       "      <td>G</td>\n",
       "      <td>6-5</td>\n",
       "      <td>220.0</td>\n",
       "      <td>December 16, 1983</td>\n",
       "      <td>University of Kentucky</td>\n",
       "      <td>5.0</td>\n",
       "      <td>3.0</td>\n",
       "    </tr>\n",
       "    <tr>\n",
       "      <th>2</th>\n",
       "      <td>Eric Bledsoe</td>\n",
       "      <td>2011.0</td>\n",
       "      <td>2018.0</td>\n",
       "      <td>G</td>\n",
       "      <td>6-1</td>\n",
       "      <td>205.0</td>\n",
       "      <td>December 9, 1989</td>\n",
       "      <td>University of Kentucky</td>\n",
       "      <td>7.0</td>\n",
       "      <td>2.0</td>\n",
       "    </tr>\n",
       "    <tr>\n",
       "      <th>3</th>\n",
       "      <td>Devin Booker</td>\n",
       "      <td>2016.0</td>\n",
       "      <td>2018.0</td>\n",
       "      <td>G</td>\n",
       "      <td>6-6</td>\n",
       "      <td>206.0</td>\n",
       "      <td>October 30, 1996</td>\n",
       "      <td>University of Kentucky</td>\n",
       "      <td>2.0</td>\n",
       "      <td>2.0</td>\n",
       "    </tr>\n",
       "    <tr>\n",
       "      <th>4</th>\n",
       "      <td>Steve Bucknall</td>\n",
       "      <td>1990.0</td>\n",
       "      <td>1990.0</td>\n",
       "      <td>G</td>\n",
       "      <td>6-6</td>\n",
       "      <td>215.0</td>\n",
       "      <td>March 17, 1966</td>\n",
       "      <td>University of North Carolina</td>\n",
       "      <td>0.0</td>\n",
       "      <td>3.0</td>\n",
       "    </tr>\n",
       "    <tr>\n",
       "      <th>5</th>\n",
       "      <td>Antonio Burks</td>\n",
       "      <td>2005.0</td>\n",
       "      <td>2006.0</td>\n",
       "      <td>G</td>\n",
       "      <td>6-1</td>\n",
       "      <td>200.0</td>\n",
       "      <td>February 25, 1980</td>\n",
       "      <td>University of Memphis</td>\n",
       "      <td>1.0</td>\n",
       "      <td>1.0</td>\n",
       "    </tr>\n",
       "    <tr>\n",
       "      <th>6</th>\n",
       "      <td>Howard Carter</td>\n",
       "      <td>1984.0</td>\n",
       "      <td>1985.0</td>\n",
       "      <td>G</td>\n",
       "      <td>6-5</td>\n",
       "      <td>215.0</td>\n",
       "      <td>October 26, 1961</td>\n",
       "      <td>Louisiana State University</td>\n",
       "      <td>1.0</td>\n",
       "      <td>3.0</td>\n",
       "    </tr>\n",
       "    <tr>\n",
       "      <th>7</th>\n",
       "      <td>Maurice Carter</td>\n",
       "      <td>2004.0</td>\n",
       "      <td>2004.0</td>\n",
       "      <td>G</td>\n",
       "      <td>6-5</td>\n",
       "      <td>210.0</td>\n",
       "      <td>October 12, 1976</td>\n",
       "      <td>Louisiana State University</td>\n",
       "      <td>0.0</td>\n",
       "      <td>2.0</td>\n",
       "    </tr>\n",
       "    <tr>\n",
       "      <th>8</th>\n",
       "      <td>Chris Douglas-Roberts</td>\n",
       "      <td>2009.0</td>\n",
       "      <td>2015.0</td>\n",
       "      <td>G</td>\n",
       "      <td>6-7</td>\n",
       "      <td>200.0</td>\n",
       "      <td>January 8, 1987</td>\n",
       "      <td>University of Memphis</td>\n",
       "      <td>6.0</td>\n",
       "      <td>1.0</td>\n",
       "    </tr>\n",
       "    <tr>\n",
       "      <th>9</th>\n",
       "      <td>Wayne Ellington</td>\n",
       "      <td>2010.0</td>\n",
       "      <td>2018.0</td>\n",
       "      <td>G</td>\n",
       "      <td>6-4</td>\n",
       "      <td>200.0</td>\n",
       "      <td>October 29, 1987</td>\n",
       "      <td>University of North Carolina</td>\n",
       "      <td>8.0</td>\n",
       "      <td>1.0</td>\n",
       "    </tr>\n",
       "    <tr>\n",
       "      <th>10</th>\n",
       "      <td>Maurice Evans</td>\n",
       "      <td>2002.0</td>\n",
       "      <td>2012.0</td>\n",
       "      <td>G</td>\n",
       "      <td>6-5</td>\n",
       "      <td>220.0</td>\n",
       "      <td>November 8, 1978</td>\n",
       "      <td>University of Texas at Austin</td>\n",
       "      <td>10.0</td>\n",
       "      <td>3.0</td>\n",
       "    </tr>\n",
       "    <tr>\n",
       "      <th>11</th>\n",
       "      <td>Raymond Felton</td>\n",
       "      <td>2006.0</td>\n",
       "      <td>2018.0</td>\n",
       "      <td>G</td>\n",
       "      <td>6-1</td>\n",
       "      <td>205.0</td>\n",
       "      <td>June 26, 1984</td>\n",
       "      <td>University of North Carolina</td>\n",
       "      <td>12.0</td>\n",
       "      <td>2.0</td>\n",
       "    </tr>\n",
       "    <tr>\n",
       "      <th>12</th>\n",
       "      <td>Archie Goodwin</td>\n",
       "      <td>2014.0</td>\n",
       "      <td>2017.0</td>\n",
       "      <td>G</td>\n",
       "      <td>6-5</td>\n",
       "      <td>200.0</td>\n",
       "      <td>August 17, 1994</td>\n",
       "      <td>University of Kentucky</td>\n",
       "      <td>3.0</td>\n",
       "      <td>1.0</td>\n",
       "    </tr>\n",
       "    <tr>\n",
       "      <th>13</th>\n",
       "      <td>Glenn Hansen</td>\n",
       "      <td>1976.0</td>\n",
       "      <td>1978.0</td>\n",
       "      <td>G</td>\n",
       "      <td>6-4</td>\n",
       "      <td>205.0</td>\n",
       "      <td>April 21, 1952</td>\n",
       "      <td>Louisiana State University</td>\n",
       "      <td>2.0</td>\n",
       "      <td>2.0</td>\n",
       "    </tr>\n",
       "    <tr>\n",
       "      <th>14</th>\n",
       "      <td>Aaron Harrison</td>\n",
       "      <td>2016.0</td>\n",
       "      <td>2017.0</td>\n",
       "      <td>G</td>\n",
       "      <td>6-6</td>\n",
       "      <td>210.0</td>\n",
       "      <td>October 28, 1994</td>\n",
       "      <td>University of Kentucky</td>\n",
       "      <td>1.0</td>\n",
       "      <td>2.0</td>\n",
       "    </tr>\n",
       "    <tr>\n",
       "      <th>15</th>\n",
       "      <td>Andrew Harrison</td>\n",
       "      <td>2017.0</td>\n",
       "      <td>2018.0</td>\n",
       "      <td>G</td>\n",
       "      <td>6-6</td>\n",
       "      <td>213.0</td>\n",
       "      <td>October 28, 1994</td>\n",
       "      <td>University of Kentucky</td>\n",
       "      <td>1.0</td>\n",
       "      <td>3.0</td>\n",
       "    </tr>\n",
       "    <tr>\n",
       "      <th>16</th>\n",
       "      <td>Royal Ivey</td>\n",
       "      <td>2005.0</td>\n",
       "      <td>2014.0</td>\n",
       "      <td>G</td>\n",
       "      <td>6-3</td>\n",
       "      <td>200.0</td>\n",
       "      <td>December 20, 1981</td>\n",
       "      <td>University of Texas at Austin</td>\n",
       "      <td>9.0</td>\n",
       "      <td>1.0</td>\n",
       "    </tr>\n",
       "    <tr>\n",
       "      <th>17</th>\n",
       "      <td>Larry Johnson</td>\n",
       "      <td>1978.0</td>\n",
       "      <td>1978.0</td>\n",
       "      <td>G</td>\n",
       "      <td>6-3</td>\n",
       "      <td>205.0</td>\n",
       "      <td>November 28, 1954</td>\n",
       "      <td>University of Kentucky</td>\n",
       "      <td>0.0</td>\n",
       "      <td>2.0</td>\n",
       "    </tr>\n",
       "    <tr>\n",
       "      <th>18</th>\n",
       "      <td>Doron Lamb</td>\n",
       "      <td>2013.0</td>\n",
       "      <td>2014.0</td>\n",
       "      <td>G</td>\n",
       "      <td>6-4</td>\n",
       "      <td>210.0</td>\n",
       "      <td>November 6, 1991</td>\n",
       "      <td>University of Kentucky</td>\n",
       "      <td>1.0</td>\n",
       "      <td>2.0</td>\n",
       "    </tr>\n",
       "    <tr>\n",
       "      <th>19</th>\n",
       "      <td>Rusty LaRue</td>\n",
       "      <td>1998.0</td>\n",
       "      <td>2004.0</td>\n",
       "      <td>G</td>\n",
       "      <td>6-2</td>\n",
       "      <td>210.0</td>\n",
       "      <td>December 10, 1973</td>\n",
       "      <td>Wake Forest University</td>\n",
       "      <td>6.0</td>\n",
       "      <td>2.0</td>\n",
       "    </tr>\n",
       "    <tr>\n",
       "      <th>20</th>\n",
       "      <td>DeAndre Liggins</td>\n",
       "      <td>2012.0</td>\n",
       "      <td>2018.0</td>\n",
       "      <td>G</td>\n",
       "      <td>6-6</td>\n",
       "      <td>209.0</td>\n",
       "      <td>March 31, 1988</td>\n",
       "      <td>University of Kentucky</td>\n",
       "      <td>6.0</td>\n",
       "      <td>2.0</td>\n",
       "    </tr>\n",
       "    <tr>\n",
       "      <th>21</th>\n",
       "      <td>Randy Livingston</td>\n",
       "      <td>1997.0</td>\n",
       "      <td>2007.0</td>\n",
       "      <td>G</td>\n",
       "      <td>6-4</td>\n",
       "      <td>209.0</td>\n",
       "      <td>April 2, 1975</td>\n",
       "      <td>Louisiana State University</td>\n",
       "      <td>10.0</td>\n",
       "      <td>2.0</td>\n",
       "    </tr>\n",
       "    <tr>\n",
       "      <th>22</th>\n",
       "      <td>Kendall Marshall</td>\n",
       "      <td>2013.0</td>\n",
       "      <td>2016.0</td>\n",
       "      <td>G</td>\n",
       "      <td>6-4</td>\n",
       "      <td>200.0</td>\n",
       "      <td>August 19, 1991</td>\n",
       "      <td>University of North Carolina</td>\n",
       "      <td>3.0</td>\n",
       "      <td>1.0</td>\n",
       "    </tr>\n",
       "    <tr>\n",
       "      <th>23</th>\n",
       "      <td>Rashad McCants</td>\n",
       "      <td>2006.0</td>\n",
       "      <td>2009.0</td>\n",
       "      <td>G</td>\n",
       "      <td>6-4</td>\n",
       "      <td>207.0</td>\n",
       "      <td>September 25, 1984</td>\n",
       "      <td>University of North Carolina</td>\n",
       "      <td>3.0</td>\n",
       "      <td>2.0</td>\n",
       "    </tr>\n",
       "    <tr>\n",
       "      <th>24</th>\n",
       "      <td>Jodie Meeks</td>\n",
       "      <td>2010.0</td>\n",
       "      <td>2018.0</td>\n",
       "      <td>G</td>\n",
       "      <td>6-4</td>\n",
       "      <td>210.0</td>\n",
       "      <td>August 21, 1987</td>\n",
       "      <td>University of Kentucky</td>\n",
       "      <td>8.0</td>\n",
       "      <td>2.0</td>\n",
       "    </tr>\n",
       "    <tr>\n",
       "      <th>25</th>\n",
       "      <td>Malik Monk</td>\n",
       "      <td>2018.0</td>\n",
       "      <td>2018.0</td>\n",
       "      <td>G</td>\n",
       "      <td>6-3</td>\n",
       "      <td>200.0</td>\n",
       "      <td>February 4, 1998</td>\n",
       "      <td>University of Kentucky</td>\n",
       "      <td>0.0</td>\n",
       "      <td>1.0</td>\n",
       "    </tr>\n",
       "    <tr>\n",
       "      <th>26</th>\n",
       "      <td>Guy Morgan</td>\n",
       "      <td>1983.0</td>\n",
       "      <td>1983.0</td>\n",
       "      <td>G</td>\n",
       "      <td>6-8</td>\n",
       "      <td>205.0</td>\n",
       "      <td>August 23, 1960</td>\n",
       "      <td>Wake Forest University</td>\n",
       "      <td>0.0</td>\n",
       "      <td>2.0</td>\n",
       "    </tr>\n",
       "    <tr>\n",
       "      <th>27</th>\n",
       "      <td>Jamal Murray</td>\n",
       "      <td>2017.0</td>\n",
       "      <td>2018.0</td>\n",
       "      <td>G</td>\n",
       "      <td>6-4</td>\n",
       "      <td>207.0</td>\n",
       "      <td>February 23, 1997</td>\n",
       "      <td>University of Kentucky</td>\n",
       "      <td>1.0</td>\n",
       "      <td>2.0</td>\n",
       "    </tr>\n",
       "    <tr>\n",
       "      <th>28</th>\n",
       "      <td>Marcus Thornton</td>\n",
       "      <td>2010.0</td>\n",
       "      <td>2017.0</td>\n",
       "      <td>G</td>\n",
       "      <td>6-4</td>\n",
       "      <td>205.0</td>\n",
       "      <td>June 5, 1987</td>\n",
       "      <td>Louisiana State University</td>\n",
       "      <td>7.0</td>\n",
       "      <td>2.0</td>\n",
       "    </tr>\n",
       "    <tr>\n",
       "      <th>29</th>\n",
       "      <td>Dajuan Wagner</td>\n",
       "      <td>2003.0</td>\n",
       "      <td>2007.0</td>\n",
       "      <td>G</td>\n",
       "      <td>6-2</td>\n",
       "      <td>200.0</td>\n",
       "      <td>February 4, 1983</td>\n",
       "      <td>University of Memphis</td>\n",
       "      <td>4.0</td>\n",
       "      <td>1.0</td>\n",
       "    </tr>\n",
       "    <tr>\n",
       "      <th>30</th>\n",
       "      <td>Brandon Williams</td>\n",
       "      <td>1998.0</td>\n",
       "      <td>2003.0</td>\n",
       "      <td>G</td>\n",
       "      <td>6-6</td>\n",
       "      <td>215.0</td>\n",
       "      <td>February 27, 1975</td>\n",
       "      <td>Davidson College</td>\n",
       "      <td>5.0</td>\n",
       "      <td>3.0</td>\n",
       "    </tr>\n",
       "    <tr>\n",
       "      <th>31</th>\n",
       "      <td>Shammond Williams</td>\n",
       "      <td>1999.0</td>\n",
       "      <td>2007.0</td>\n",
       "      <td>G</td>\n",
       "      <td>6-1</td>\n",
       "      <td>201.0</td>\n",
       "      <td>April 5, 1975</td>\n",
       "      <td>University of North Carolina</td>\n",
       "      <td>8.0</td>\n",
       "      <td>2.0</td>\n",
       "    </tr>\n",
       "  </tbody>\n",
       "</table>\n",
       "</div>"
      ],
      "text/plain": [
       "                     name  year_start  year_end position height  weight  \\\n",
       "0        Antonio Anderson      2010.0    2010.0        G    6-6   215.0   \n",
       "1        Kelenna Azubuike      2007.0    2012.0        G    6-5   220.0   \n",
       "2            Eric Bledsoe      2011.0    2018.0        G    6-1   205.0   \n",
       "3            Devin Booker      2016.0    2018.0        G    6-6   206.0   \n",
       "4          Steve Bucknall      1990.0    1990.0        G    6-6   215.0   \n",
       "5           Antonio Burks      2005.0    2006.0        G    6-1   200.0   \n",
       "6           Howard Carter      1984.0    1985.0        G    6-5   215.0   \n",
       "7          Maurice Carter      2004.0    2004.0        G    6-5   210.0   \n",
       "8   Chris Douglas-Roberts      2009.0    2015.0        G    6-7   200.0   \n",
       "9         Wayne Ellington      2010.0    2018.0        G    6-4   200.0   \n",
       "10          Maurice Evans      2002.0    2012.0        G    6-5   220.0   \n",
       "11         Raymond Felton      2006.0    2018.0        G    6-1   205.0   \n",
       "12         Archie Goodwin      2014.0    2017.0        G    6-5   200.0   \n",
       "13           Glenn Hansen      1976.0    1978.0        G    6-4   205.0   \n",
       "14         Aaron Harrison      2016.0    2017.0        G    6-6   210.0   \n",
       "15        Andrew Harrison      2017.0    2018.0        G    6-6   213.0   \n",
       "16             Royal Ivey      2005.0    2014.0        G    6-3   200.0   \n",
       "17          Larry Johnson      1978.0    1978.0        G    6-3   205.0   \n",
       "18             Doron Lamb      2013.0    2014.0        G    6-4   210.0   \n",
       "19            Rusty LaRue      1998.0    2004.0        G    6-2   210.0   \n",
       "20        DeAndre Liggins      2012.0    2018.0        G    6-6   209.0   \n",
       "21       Randy Livingston      1997.0    2007.0        G    6-4   209.0   \n",
       "22       Kendall Marshall      2013.0    2016.0        G    6-4   200.0   \n",
       "23         Rashad McCants      2006.0    2009.0        G    6-4   207.0   \n",
       "24            Jodie Meeks      2010.0    2018.0        G    6-4   210.0   \n",
       "25             Malik Monk      2018.0    2018.0        G    6-3   200.0   \n",
       "26             Guy Morgan      1983.0    1983.0        G    6-8   205.0   \n",
       "27           Jamal Murray      2017.0    2018.0        G    6-4   207.0   \n",
       "28        Marcus Thornton      2010.0    2017.0        G    6-4   205.0   \n",
       "29          Dajuan Wagner      2003.0    2007.0        G    6-2   200.0   \n",
       "30       Brandon Williams      1998.0    2003.0        G    6-6   215.0   \n",
       "31      Shammond Williams      1999.0    2007.0        G    6-1   201.0   \n",
       "\n",
       "            birth_date                        college  AñosActivo  peso  \n",
       "0         June 5, 1985          University of Memphis         0.0   3.0  \n",
       "1    December 16, 1983         University of Kentucky         5.0   3.0  \n",
       "2     December 9, 1989         University of Kentucky         7.0   2.0  \n",
       "3     October 30, 1996         University of Kentucky         2.0   2.0  \n",
       "4       March 17, 1966   University of North Carolina         0.0   3.0  \n",
       "5    February 25, 1980          University of Memphis         1.0   1.0  \n",
       "6     October 26, 1961     Louisiana State University         1.0   3.0  \n",
       "7     October 12, 1976     Louisiana State University         0.0   2.0  \n",
       "8      January 8, 1987          University of Memphis         6.0   1.0  \n",
       "9     October 29, 1987   University of North Carolina         8.0   1.0  \n",
       "10    November 8, 1978  University of Texas at Austin        10.0   3.0  \n",
       "11       June 26, 1984   University of North Carolina        12.0   2.0  \n",
       "12     August 17, 1994         University of Kentucky         3.0   1.0  \n",
       "13      April 21, 1952     Louisiana State University         2.0   2.0  \n",
       "14    October 28, 1994         University of Kentucky         1.0   2.0  \n",
       "15    October 28, 1994         University of Kentucky         1.0   3.0  \n",
       "16   December 20, 1981  University of Texas at Austin         9.0   1.0  \n",
       "17   November 28, 1954         University of Kentucky         0.0   2.0  \n",
       "18    November 6, 1991         University of Kentucky         1.0   2.0  \n",
       "19   December 10, 1973         Wake Forest University         6.0   2.0  \n",
       "20      March 31, 1988         University of Kentucky         6.0   2.0  \n",
       "21       April 2, 1975     Louisiana State University        10.0   2.0  \n",
       "22     August 19, 1991   University of North Carolina         3.0   1.0  \n",
       "23  September 25, 1984   University of North Carolina         3.0   2.0  \n",
       "24     August 21, 1987         University of Kentucky         8.0   2.0  \n",
       "25    February 4, 1998         University of Kentucky         0.0   1.0  \n",
       "26     August 23, 1960         Wake Forest University         0.0   2.0  \n",
       "27   February 23, 1997         University of Kentucky         1.0   2.0  \n",
       "28        June 5, 1987     Louisiana State University         7.0   2.0  \n",
       "29    February 4, 1983          University of Memphis         4.0   1.0  \n",
       "30   February 27, 1975               Davidson College         5.0   3.0  \n",
       "31       April 5, 1975   University of North Carolina         8.0   2.0  "
      ]
     },
     "execution_count": 2,
     "metadata": {},
     "output_type": "execute_result"
    }
   ],
   "source": [
    "bd5 = pd.read_csv(\"player_data1.csv\",delimiter=',')\n",
    "bd5"
   ]
  },
  {
   "cell_type": "markdown",
   "metadata": {},
   "source": [
    "La variable \"weight\" es el peso individual del jugador y la variable \"peso\" es la categoria en la cual entra el jugador según el rango"
   ]
  },
  {
   "cell_type": "markdown",
   "metadata": {},
   "source": [
    "## V. Continua vs V. Cualitativa\n"
   ]
  },
  {
   "cell_type": "markdown",
   "metadata": {},
   "source": [
    "Tablas de Resumen Numérico(por peso y por universidad)"
   ]
  },
  {
   "cell_type": "code",
   "execution_count": 3,
   "metadata": {},
   "outputs": [
    {
     "data": {
      "text/html": [
       "<div>\n",
       "<style scoped>\n",
       "    .dataframe tbody tr th:only-of-type {\n",
       "        vertical-align: middle;\n",
       "    }\n",
       "\n",
       "    .dataframe tbody tr th {\n",
       "        vertical-align: top;\n",
       "    }\n",
       "\n",
       "    .dataframe thead th {\n",
       "        text-align: right;\n",
       "    }\n",
       "</style>\n",
       "<table border=\"1\" class=\"dataframe\">\n",
       "  <thead>\n",
       "    <tr style=\"text-align: right;\">\n",
       "      <th></th>\n",
       "      <th>college</th>\n",
       "      <th>count</th>\n",
       "      <th>mean</th>\n",
       "      <th>std</th>\n",
       "      <th>min</th>\n",
       "      <th>25%</th>\n",
       "      <th>50%</th>\n",
       "      <th>75%</th>\n",
       "      <th>max</th>\n",
       "    </tr>\n",
       "  </thead>\n",
       "  <tbody>\n",
       "    <tr>\n",
       "      <th>0</th>\n",
       "      <td>Davidson College</td>\n",
       "      <td>1.0</td>\n",
       "      <td>3.000000</td>\n",
       "      <td>NaN</td>\n",
       "      <td>3.0</td>\n",
       "      <td>3.00</td>\n",
       "      <td>3.0</td>\n",
       "      <td>3.0</td>\n",
       "      <td>3.0</td>\n",
       "    </tr>\n",
       "    <tr>\n",
       "      <th>1</th>\n",
       "      <td>Louisiana State University</td>\n",
       "      <td>5.0</td>\n",
       "      <td>2.200000</td>\n",
       "      <td>0.447214</td>\n",
       "      <td>2.0</td>\n",
       "      <td>2.00</td>\n",
       "      <td>2.0</td>\n",
       "      <td>2.0</td>\n",
       "      <td>3.0</td>\n",
       "    </tr>\n",
       "    <tr>\n",
       "      <th>2</th>\n",
       "      <td>University of Kentucky</td>\n",
       "      <td>12.0</td>\n",
       "      <td>2.000000</td>\n",
       "      <td>0.603023</td>\n",
       "      <td>1.0</td>\n",
       "      <td>2.00</td>\n",
       "      <td>2.0</td>\n",
       "      <td>2.0</td>\n",
       "      <td>3.0</td>\n",
       "    </tr>\n",
       "    <tr>\n",
       "      <th>3</th>\n",
       "      <td>University of Memphis</td>\n",
       "      <td>4.0</td>\n",
       "      <td>1.500000</td>\n",
       "      <td>1.000000</td>\n",
       "      <td>1.0</td>\n",
       "      <td>1.00</td>\n",
       "      <td>1.0</td>\n",
       "      <td>1.5</td>\n",
       "      <td>3.0</td>\n",
       "    </tr>\n",
       "    <tr>\n",
       "      <th>4</th>\n",
       "      <td>University of North Carolina</td>\n",
       "      <td>6.0</td>\n",
       "      <td>1.833333</td>\n",
       "      <td>0.752773</td>\n",
       "      <td>1.0</td>\n",
       "      <td>1.25</td>\n",
       "      <td>2.0</td>\n",
       "      <td>2.0</td>\n",
       "      <td>3.0</td>\n",
       "    </tr>\n",
       "    <tr>\n",
       "      <th>5</th>\n",
       "      <td>University of Texas at Austin</td>\n",
       "      <td>2.0</td>\n",
       "      <td>2.000000</td>\n",
       "      <td>1.414214</td>\n",
       "      <td>1.0</td>\n",
       "      <td>1.50</td>\n",
       "      <td>2.0</td>\n",
       "      <td>2.5</td>\n",
       "      <td>3.0</td>\n",
       "    </tr>\n",
       "    <tr>\n",
       "      <th>6</th>\n",
       "      <td>Wake Forest University</td>\n",
       "      <td>2.0</td>\n",
       "      <td>2.000000</td>\n",
       "      <td>0.000000</td>\n",
       "      <td>2.0</td>\n",
       "      <td>2.00</td>\n",
       "      <td>2.0</td>\n",
       "      <td>2.0</td>\n",
       "      <td>2.0</td>\n",
       "    </tr>\n",
       "  </tbody>\n",
       "</table>\n",
       "</div>"
      ],
      "text/plain": [
       "                         college  count      mean       std  min   25%  50%  \\\n",
       "0               Davidson College    1.0  3.000000       NaN  3.0  3.00  3.0   \n",
       "1     Louisiana State University    5.0  2.200000  0.447214  2.0  2.00  2.0   \n",
       "2         University of Kentucky   12.0  2.000000  0.603023  1.0  2.00  2.0   \n",
       "3          University of Memphis    4.0  1.500000  1.000000  1.0  1.00  1.0   \n",
       "4   University of North Carolina    6.0  1.833333  0.752773  1.0  1.25  2.0   \n",
       "5  University of Texas at Austin    2.0  2.000000  1.414214  1.0  1.50  2.0   \n",
       "6         Wake Forest University    2.0  2.000000  0.000000  2.0  2.00  2.0   \n",
       "\n",
       "   75%  max  \n",
       "0  3.0  3.0  \n",
       "1  2.0  3.0  \n",
       "2  2.0  3.0  \n",
       "3  1.5  3.0  \n",
       "4  2.0  3.0  \n",
       "5  2.5  3.0  \n",
       "6  2.0  2.0  "
      ]
     },
     "execution_count": 3,
     "metadata": {},
     "output_type": "execute_result"
    }
   ],
   "source": [
    "pdf3= bd5.groupby('college')['peso'].describe().reset_index()\n",
    "pdf3"
   ]
  },
  {
   "cell_type": "markdown",
   "metadata": {},
   "source": [
    "Resumen Gráfico"
   ]
  },
  {
   "cell_type": "markdown",
   "metadata": {},
   "source": [
    "Representación gráfica de la información agregada(gráfica de la media de peso por cada universidad y su desviacion estandar)"
   ]
  },
  {
   "cell_type": "code",
   "execution_count": 5,
   "metadata": {},
   "outputs": [
    {
     "data": {
      "text/plain": [
       "<AxesSubplot:xlabel='college'>"
      ]
     },
     "execution_count": 5,
     "metadata": {},
     "output_type": "execute_result"
    },
    {
     "data": {
      "image/png": "[encoded data removed]",
      "text/plain": [
       "<Figure size 432x288 with 1 Axes>"
      ]
     },
     "metadata": {
      "needs_background": "light"
     },
     "output_type": "display_data"
    }
   ],
   "source": [
    "import matplotlib.pyplot as plt\n",
    "%matplotlib inline\n",
    "\n",
    "pdf3.plot(kind='bar',x='college',y='mean',yerr='std')"
   ]
  },
  {
   "cell_type": "code",
   "execution_count": 51,
   "metadata": {},
   "outputs": [
    {
     "data": {
      "text/html": [
       "<div>\n",
       "<style scoped>\n",
       "    .dataframe tbody tr th:only-of-type {\n",
       "        vertical-align: middle;\n",
       "    }\n",
       "\n",
       "    .dataframe tbody tr th {\n",
       "        vertical-align: top;\n",
       "    }\n",
       "\n",
       "    .dataframe thead th {\n",
       "        text-align: right;\n",
       "    }\n",
       "</style>\n",
       "<table border=\"1\" class=\"dataframe\">\n",
       "  <thead>\n",
       "    <tr style=\"text-align: right;\">\n",
       "      <th></th>\n",
       "      <th>name</th>\n",
       "      <th>college</th>\n",
       "      <th>peso</th>\n",
       "      <th>AñosActivo</th>\n",
       "      <th>weight</th>\n",
       "    </tr>\n",
       "  </thead>\n",
       "  <tbody>\n",
       "    <tr>\n",
       "      <th>19</th>\n",
       "      <td>Rusty LaRue</td>\n",
       "      <td>Wake Forest University</td>\n",
       "      <td>2.0</td>\n",
       "      <td>6.0</td>\n",
       "      <td>210.0</td>\n",
       "    </tr>\n",
       "    <tr>\n",
       "      <th>4</th>\n",
       "      <td>Steve Bucknall</td>\n",
       "      <td>University of North Carolina</td>\n",
       "      <td>3.0</td>\n",
       "      <td>0.0</td>\n",
       "      <td>215.0</td>\n",
       "    </tr>\n",
       "    <tr>\n",
       "      <th>1</th>\n",
       "      <td>Kelenna Azubuike</td>\n",
       "      <td>University of Kentucky</td>\n",
       "      <td>3.0</td>\n",
       "      <td>5.0</td>\n",
       "      <td>220.0</td>\n",
       "    </tr>\n",
       "    <tr>\n",
       "      <th>24</th>\n",
       "      <td>Jodie Meeks</td>\n",
       "      <td>University of Kentucky</td>\n",
       "      <td>2.0</td>\n",
       "      <td>8.0</td>\n",
       "      <td>210.0</td>\n",
       "    </tr>\n",
       "    <tr>\n",
       "      <th>31</th>\n",
       "      <td>Shammond Williams</td>\n",
       "      <td>University of North Carolina</td>\n",
       "      <td>2.0</td>\n",
       "      <td>8.0</td>\n",
       "      <td>201.0</td>\n",
       "    </tr>\n",
       "    <tr>\n",
       "      <th>10</th>\n",
       "      <td>Maurice Evans</td>\n",
       "      <td>University of Texas at Austin</td>\n",
       "      <td>3.0</td>\n",
       "      <td>10.0</td>\n",
       "      <td>220.0</td>\n",
       "    </tr>\n",
       "    <tr>\n",
       "      <th>13</th>\n",
       "      <td>Glenn Hansen</td>\n",
       "      <td>Louisiana State University</td>\n",
       "      <td>2.0</td>\n",
       "      <td>2.0</td>\n",
       "      <td>205.0</td>\n",
       "    </tr>\n",
       "    <tr>\n",
       "      <th>18</th>\n",
       "      <td>Doron Lamb</td>\n",
       "      <td>University of Kentucky</td>\n",
       "      <td>2.0</td>\n",
       "      <td>1.0</td>\n",
       "      <td>210.0</td>\n",
       "    </tr>\n",
       "    <tr>\n",
       "      <th>21</th>\n",
       "      <td>Randy Livingston</td>\n",
       "      <td>Louisiana State University</td>\n",
       "      <td>2.0</td>\n",
       "      <td>10.0</td>\n",
       "      <td>209.0</td>\n",
       "    </tr>\n",
       "  </tbody>\n",
       "</table>\n",
       "</div>"
      ],
      "text/plain": [
       "                 name                        college  peso  AñosActivo  weight\n",
       "19        Rusty LaRue         Wake Forest University   2.0         6.0   210.0\n",
       "4      Steve Bucknall   University of North Carolina   3.0         0.0   215.0\n",
       "1    Kelenna Azubuike         University of Kentucky   3.0         5.0   220.0\n",
       "24        Jodie Meeks         University of Kentucky   2.0         8.0   210.0\n",
       "31  Shammond Williams   University of North Carolina   2.0         8.0   201.0\n",
       "10      Maurice Evans  University of Texas at Austin   3.0        10.0   220.0\n",
       "13       Glenn Hansen     Louisiana State University   2.0         2.0   205.0\n",
       "18         Doron Lamb         University of Kentucky   2.0         1.0   210.0\n",
       "21   Randy Livingston     Louisiana State University   2.0        10.0   209.0"
      ]
     },
     "execution_count": 51,
     "metadata": {},
     "output_type": "execute_result"
    }
   ],
   "source": [
    "pdf4 = bd5[['name','college','peso','AñosActivo','weight']].sample(frac=1, replace=False, random_state=20)\n",
    "pdf4[1:10]"
   ]
  },
  {
   "cell_type": "markdown",
   "metadata": {},
   "source": [
    "Representación gráfica de una muestra aleatoria de datos obtenida anteriormente "
   ]
  },
  {
   "cell_type": "code",
   "execution_count": 52,
   "metadata": {},
   "outputs": [
    {
     "data": {
      "text/plain": [
       "(array([0, 1, 2, 3, 4, 5, 6]),\n",
       " [Text(0, 0, 'University of Memphis'),\n",
       "  Text(1, 0, 'Wake Forest University'),\n",
       "  Text(2, 0, 'University of North Carolina'),\n",
       "  Text(3, 0, 'University of Kentucky'),\n",
       "  Text(4, 0, 'University of Texas at Austin'),\n",
       "  Text(5, 0, 'Louisiana State University'),\n",
       "  Text(6, 0, 'Davidson College')])"
      ]
     },
     "execution_count": 52,
     "metadata": {},
     "output_type": "execute_result"
    },
    {
     "data": {
      "image/png": "[encoded data removed]",
      "text/plain": [
       "<Figure size 432x288 with 1 Axes>"
      ]
     },
     "metadata": {
      "needs_background": "light"
     },
     "output_type": "display_data"
    }
   ],
   "source": [
    "import seaborn as sns\n",
    "sns.boxplot(x='college',y='AñosActivo',data=pdf4)\n",
    "plt.xticks(rotation=\"90\")"
   ]
  },
  {
   "cell_type": "markdown",
   "metadata": {},
   "source": [
    "Representacion grafica segun universidad,años activos y la clasificacion de peso"
   ]
  },
  {
   "cell_type": "code",
   "execution_count": 33,
   "metadata": {},
   "outputs": [
    {
     "data": {
      "text/plain": [
       "(array([0, 1, 2, 3, 4, 5, 6]),\n",
       " [Text(0, 0, 'University of Kentucky'),\n",
       "  Text(1, 0, 'Louisiana State University'),\n",
       "  Text(2, 0, 'University of Memphis'),\n",
       "  Text(3, 0, 'Wake Forest University'),\n",
       "  Text(4, 0, 'University of North Carolina'),\n",
       "  Text(5, 0, 'Davidson College'),\n",
       "  Text(6, 0, 'University of Texas at Austin')])"
      ]
     },
     "execution_count": 33,
     "metadata": {},
     "output_type": "execute_result"
    },
    {
     "data": {
      "image/png": "[encoded data removed]",
      "text/plain": [
       "<Figure size 432x288 with 1 Axes>"
      ]
     },
     "metadata": {
      "needs_background": "light"
     },
     "output_type": "display_data"
    }
   ],
   "source": [
    "sns.barplot(x=\"college\", y=\"AñosActivo\", hue=\"peso\", data=pdf4)\n",
    "plt.xticks(rotation=\"90\")"
   ]
  },
  {
   "cell_type": "markdown",
   "metadata": {},
   "source": [
    "## V. Cualitativa vs V. Cualitativa"
   ]
  },
  {
   "cell_type": "markdown",
   "metadata": {},
   "source": [
    "Resumen Numérico"
   ]
  },
  {
   "cell_type": "code",
   "execution_count": 34,
   "metadata": {},
   "outputs": [
    {
     "data": {
      "text/html": [
       "<div>\n",
       "<style scoped>\n",
       "    .dataframe tbody tr th:only-of-type {\n",
       "        vertical-align: middle;\n",
       "    }\n",
       "\n",
       "    .dataframe tbody tr th {\n",
       "        vertical-align: top;\n",
       "    }\n",
       "\n",
       "    .dataframe thead th {\n",
       "        text-align: right;\n",
       "    }\n",
       "</style>\n",
       "<table border=\"1\" class=\"dataframe\">\n",
       "  <thead>\n",
       "    <tr style=\"text-align: right;\">\n",
       "      <th></th>\n",
       "      <th>college</th>\n",
       "      <th>AñosActivo</th>\n",
       "      <th>n</th>\n",
       "    </tr>\n",
       "  </thead>\n",
       "  <tbody>\n",
       "    <tr>\n",
       "      <th>0</th>\n",
       "      <td>Davidson College</td>\n",
       "      <td>5.0</td>\n",
       "      <td>1</td>\n",
       "    </tr>\n",
       "    <tr>\n",
       "      <th>1</th>\n",
       "      <td>Louisiana State University</td>\n",
       "      <td>0.0</td>\n",
       "      <td>1</td>\n",
       "    </tr>\n",
       "    <tr>\n",
       "      <th>2</th>\n",
       "      <td>Louisiana State University</td>\n",
       "      <td>1.0</td>\n",
       "      <td>1</td>\n",
       "    </tr>\n",
       "    <tr>\n",
       "      <th>3</th>\n",
       "      <td>Louisiana State University</td>\n",
       "      <td>2.0</td>\n",
       "      <td>1</td>\n",
       "    </tr>\n",
       "    <tr>\n",
       "      <th>4</th>\n",
       "      <td>Louisiana State University</td>\n",
       "      <td>7.0</td>\n",
       "      <td>1</td>\n",
       "    </tr>\n",
       "    <tr>\n",
       "      <th>5</th>\n",
       "      <td>Louisiana State University</td>\n",
       "      <td>10.0</td>\n",
       "      <td>1</td>\n",
       "    </tr>\n",
       "    <tr>\n",
       "      <th>6</th>\n",
       "      <td>University of Kentucky</td>\n",
       "      <td>0.0</td>\n",
       "      <td>2</td>\n",
       "    </tr>\n",
       "    <tr>\n",
       "      <th>7</th>\n",
       "      <td>University of Kentucky</td>\n",
       "      <td>1.0</td>\n",
       "      <td>4</td>\n",
       "    </tr>\n",
       "    <tr>\n",
       "      <th>8</th>\n",
       "      <td>University of Kentucky</td>\n",
       "      <td>2.0</td>\n",
       "      <td>1</td>\n",
       "    </tr>\n",
       "    <tr>\n",
       "      <th>9</th>\n",
       "      <td>University of Kentucky</td>\n",
       "      <td>3.0</td>\n",
       "      <td>1</td>\n",
       "    </tr>\n",
       "    <tr>\n",
       "      <th>10</th>\n",
       "      <td>University of Kentucky</td>\n",
       "      <td>5.0</td>\n",
       "      <td>1</td>\n",
       "    </tr>\n",
       "    <tr>\n",
       "      <th>11</th>\n",
       "      <td>University of Kentucky</td>\n",
       "      <td>6.0</td>\n",
       "      <td>1</td>\n",
       "    </tr>\n",
       "    <tr>\n",
       "      <th>12</th>\n",
       "      <td>University of Kentucky</td>\n",
       "      <td>7.0</td>\n",
       "      <td>1</td>\n",
       "    </tr>\n",
       "    <tr>\n",
       "      <th>13</th>\n",
       "      <td>University of Kentucky</td>\n",
       "      <td>8.0</td>\n",
       "      <td>1</td>\n",
       "    </tr>\n",
       "    <tr>\n",
       "      <th>14</th>\n",
       "      <td>University of Memphis</td>\n",
       "      <td>0.0</td>\n",
       "      <td>1</td>\n",
       "    </tr>\n",
       "    <tr>\n",
       "      <th>15</th>\n",
       "      <td>University of Memphis</td>\n",
       "      <td>1.0</td>\n",
       "      <td>1</td>\n",
       "    </tr>\n",
       "    <tr>\n",
       "      <th>16</th>\n",
       "      <td>University of Memphis</td>\n",
       "      <td>4.0</td>\n",
       "      <td>1</td>\n",
       "    </tr>\n",
       "    <tr>\n",
       "      <th>17</th>\n",
       "      <td>University of Memphis</td>\n",
       "      <td>6.0</td>\n",
       "      <td>1</td>\n",
       "    </tr>\n",
       "    <tr>\n",
       "      <th>18</th>\n",
       "      <td>University of North Carolina</td>\n",
       "      <td>0.0</td>\n",
       "      <td>1</td>\n",
       "    </tr>\n",
       "    <tr>\n",
       "      <th>19</th>\n",
       "      <td>University of North Carolina</td>\n",
       "      <td>3.0</td>\n",
       "      <td>2</td>\n",
       "    </tr>\n",
       "    <tr>\n",
       "      <th>20</th>\n",
       "      <td>University of North Carolina</td>\n",
       "      <td>8.0</td>\n",
       "      <td>2</td>\n",
       "    </tr>\n",
       "    <tr>\n",
       "      <th>21</th>\n",
       "      <td>University of North Carolina</td>\n",
       "      <td>12.0</td>\n",
       "      <td>1</td>\n",
       "    </tr>\n",
       "    <tr>\n",
       "      <th>22</th>\n",
       "      <td>University of Texas at Austin</td>\n",
       "      <td>9.0</td>\n",
       "      <td>1</td>\n",
       "    </tr>\n",
       "    <tr>\n",
       "      <th>23</th>\n",
       "      <td>University of Texas at Austin</td>\n",
       "      <td>10.0</td>\n",
       "      <td>1</td>\n",
       "    </tr>\n",
       "    <tr>\n",
       "      <th>24</th>\n",
       "      <td>Wake Forest University</td>\n",
       "      <td>0.0</td>\n",
       "      <td>1</td>\n",
       "    </tr>\n",
       "    <tr>\n",
       "      <th>25</th>\n",
       "      <td>Wake Forest University</td>\n",
       "      <td>6.0</td>\n",
       "      <td>1</td>\n",
       "    </tr>\n",
       "  </tbody>\n",
       "</table>\n",
       "</div>"
      ],
      "text/plain": [
       "                          college  AñosActivo  n\n",
       "0                Davidson College         5.0  1\n",
       "1      Louisiana State University         0.0  1\n",
       "2      Louisiana State University         1.0  1\n",
       "3      Louisiana State University         2.0  1\n",
       "4      Louisiana State University         7.0  1\n",
       "5      Louisiana State University        10.0  1\n",
       "6          University of Kentucky         0.0  2\n",
       "7          University of Kentucky         1.0  4\n",
       "8          University of Kentucky         2.0  1\n",
       "9          University of Kentucky         3.0  1\n",
       "10         University of Kentucky         5.0  1\n",
       "11         University of Kentucky         6.0  1\n",
       "12         University of Kentucky         7.0  1\n",
       "13         University of Kentucky         8.0  1\n",
       "14          University of Memphis         0.0  1\n",
       "15          University of Memphis         1.0  1\n",
       "16          University of Memphis         4.0  1\n",
       "17          University of Memphis         6.0  1\n",
       "18   University of North Carolina         0.0  1\n",
       "19   University of North Carolina         3.0  2\n",
       "20   University of North Carolina         8.0  2\n",
       "21   University of North Carolina        12.0  1\n",
       "22  University of Texas at Austin         9.0  1\n",
       "23  University of Texas at Austin        10.0  1\n",
       "24         Wake Forest University         0.0  1\n",
       "25         Wake Forest University         6.0  1"
      ]
     },
     "execution_count": 34,
     "metadata": {},
     "output_type": "execute_result"
    }
   ],
   "source": [
    "pdf6=bd5[['college','AñosActivo']].groupby(['college','AñosActivo']).size().reset_index(name='n')\n",
    "pdf6"
   ]
  },
  {
   "cell_type": "markdown",
   "metadata": {},
   "source": [
    "Resumen Gráfico"
   ]
  },
  {
   "cell_type": "code",
   "execution_count": 41,
   "metadata": {},
   "outputs": [
    {
     "data": {
      "text/plain": [
       "(array([0, 1, 2, 3, 4, 5, 6]),\n",
       " [Text(0, 0, 'Davidson College'),\n",
       "  Text(1, 0, 'Louisiana State University'),\n",
       "  Text(2, 0, 'University of Kentucky'),\n",
       "  Text(3, 0, 'University of Memphis'),\n",
       "  Text(4, 0, 'University of North Carolina'),\n",
       "  Text(5, 0, 'University of Texas at Austin'),\n",
       "  Text(6, 0, 'Wake Forest University')])"
      ]
     },
     "execution_count": 41,
     "metadata": {},
     "output_type": "execute_result"
    },
    {
     "data": {
      "image/png": "[encoded data removed]",
      "text/plain": [
       "<Figure size 432x288 with 1 Axes>"
      ]
     },
     "metadata": {
      "needs_background": "light"
     },
     "output_type": "display_data"
    }
   ],
   "source": [
    "sns.barplot(x=\"college\", y=\"n\", hue=\"AñosActivo\", data=pdf6)\n",
    "plt.xticks(rotation=\"90\")"
   ]
  },
  {
   "cell_type": "markdown",
   "metadata": {},
   "source": [
    "No supe como correr la tabla de AñosActivo para que dejará ver bien la gráfica"
   ]
  },
  {
   "cell_type": "code",
   "execution_count": 37,
   "metadata": {},
   "outputs": [
    {
     "data": {
      "text/plain": [
       "(array([0, 1, 2, 3, 4, 5, 6]),\n",
       " [Text(0, 0, 'Davidson College'),\n",
       "  Text(1, 0, 'Louisiana State University'),\n",
       "  Text(2, 0, 'University of Kentucky'),\n",
       "  Text(3, 0, 'University of Memphis'),\n",
       "  Text(4, 0, 'University of North Carolina'),\n",
       "  Text(5, 0, 'University of Texas at Austin'),\n",
       "  Text(6, 0, 'Wake Forest University')])"
      ]
     },
     "execution_count": 37,
     "metadata": {},
     "output_type": "execute_result"
    },
    {
     "data": {
      "image/png": "[encoded data removed]",
      "text/plain": [
       "<Figure size 432x288 with 1 Axes>"
      ]
     },
     "metadata": {
      "needs_background": "light"
     },
     "output_type": "display_data"
    }
   ],
   "source": [
    "pdf7 = bd5.groupby('college')['AñosActivo'].mean().reset_index()\n",
    "sns.barplot(x=\"college\", y=\"AñosActivo\", data=pdf7)\n",
    "plt.xticks(rotation=\"90\")"
   ]
  },
  {
   "cell_type": "code",
   "execution_count": 43,
   "metadata": {},
   "outputs": [
    {
     "data": {
      "text/plain": [
       "<seaborn.axisgrid.FacetGrid at 0x2adda333460>"
      ]
     },
     "execution_count": 43,
     "metadata": {},
     "output_type": "execute_result"
    },
    {
     "data": {
      "image/png": "[encoded data removed]",
      "text/plain": [
       "<Figure size 1143.38x1080 with 7 Axes>"
      ]
     },
     "metadata": {
      "needs_background": "light"
     },
     "output_type": "display_data"
    }
   ],
   "source": [
    "pdf8= bd5[['weight','college','AñosActivo']].groupby(['weight','college','AñosActivo']).size().reset_index(name='n')\n",
    "sns.catplot(x=\"weight\", y=\"n\", col=\"college\", hue=\"AñosActivo\", data=pdf8, col_wrap=3, kind='point')"
   ]
  },
  {
   "cell_type": "markdown",
   "metadata": {},
   "source": [
    "## V. Continua vs V. Continua"
   ]
  },
  {
   "cell_type": "markdown",
   "metadata": {},
   "source": [
    "Resumen Numérico"
   ]
  },
  {
   "cell_type": "code",
   "execution_count": 53,
   "metadata": {},
   "outputs": [
    {
     "data": {
      "text/plain": [
       "0.9229661856059181"
      ]
     },
     "execution_count": 53,
     "metadata": {},
     "output_type": "execute_result"
    }
   ],
   "source": [
    "bd5['weight'].corr(bd5['peso'])"
   ]
  },
  {
   "cell_type": "code",
   "execution_count": 54,
   "metadata": {},
   "outputs": [
    {
     "data": {
      "text/plain": [
       "-0.07036255274324295"
      ]
     },
     "execution_count": 54,
     "metadata": {},
     "output_type": "execute_result"
    }
   ],
   "source": [
    "bd5['weight'].corr(bd5['AñosActivo'])"
   ]
  },
  {
   "cell_type": "markdown",
   "metadata": {},
   "source": [
    "Resumen correlaciones a partir de una muestra"
   ]
  },
  {
   "cell_type": "code",
   "execution_count": 55,
   "metadata": {},
   "outputs": [
    {
     "data": {
      "text/html": [
       "<div>\n",
       "<style scoped>\n",
       "    .dataframe tbody tr th:only-of-type {\n",
       "        vertical-align: middle;\n",
       "    }\n",
       "\n",
       "    .dataframe tbody tr th {\n",
       "        vertical-align: top;\n",
       "    }\n",
       "\n",
       "    .dataframe thead th {\n",
       "        text-align: right;\n",
       "    }\n",
       "</style>\n",
       "<table border=\"1\" class=\"dataframe\">\n",
       "  <thead>\n",
       "    <tr style=\"text-align: right;\">\n",
       "      <th></th>\n",
       "      <th>peso</th>\n",
       "      <th>AñosActivo</th>\n",
       "      <th>weight</th>\n",
       "    </tr>\n",
       "  </thead>\n",
       "  <tbody>\n",
       "    <tr>\n",
       "      <th>peso</th>\n",
       "      <td>1.000000</td>\n",
       "      <td>-0.102340</td>\n",
       "      <td>0.922966</td>\n",
       "    </tr>\n",
       "    <tr>\n",
       "      <th>AñosActivo</th>\n",
       "      <td>-0.102340</td>\n",
       "      <td>1.000000</td>\n",
       "      <td>-0.070363</td>\n",
       "    </tr>\n",
       "    <tr>\n",
       "      <th>weight</th>\n",
       "      <td>0.922966</td>\n",
       "      <td>-0.070363</td>\n",
       "      <td>1.000000</td>\n",
       "    </tr>\n",
       "  </tbody>\n",
       "</table>\n",
       "</div>"
      ],
      "text/plain": [
       "                peso  AñosActivo    weight\n",
       "peso        1.000000   -0.102340  0.922966\n",
       "AñosActivo -0.102340    1.000000 -0.070363\n",
       "weight      0.922966   -0.070363  1.000000"
      ]
     },
     "execution_count": 55,
     "metadata": {},
     "output_type": "execute_result"
    }
   ],
   "source": [
    "pdf4.corr()"
   ]
  },
  {
   "cell_type": "markdown",
   "metadata": {},
   "source": [
    "Resumen Gráfico(correlacion entre \"weight\" y \"peso\" y la correlacion entre \"AñosActivo\" y \"weight\")"
   ]
  },
  {
   "cell_type": "code",
   "execution_count": 60,
   "metadata": {},
   "outputs": [
    {
     "data": {
      "text/plain": [
       "<seaborn.axisgrid.JointGrid at 0x2addb932400>"
      ]
     },
     "execution_count": 60,
     "metadata": {},
     "output_type": "execute_result"
    },
    {
     "data": {
      "image/png": "[encoded data removed]",
      "text/plain": [
       "<Figure size 432x432 with 3 Axes>"
      ]
     },
     "metadata": {
      "needs_background": "light"
     },
     "output_type": "display_data"
    }
   ],
   "source": [
    "sns.jointplot(x=\"weight\", y=\"peso\", data=pdf4)"
   ]
  },
  {
   "cell_type": "code",
   "execution_count": 62,
   "metadata": {},
   "outputs": [
    {
     "data": {
      "text/plain": [
       "<seaborn.axisgrid.JointGrid at 0x2adddc14790>"
      ]
     },
     "execution_count": 62,
     "metadata": {},
     "output_type": "execute_result"
    },
    {
     "data": {
      "image/png": "[encoded data removed]",
      "text/plain": [
       "<Figure size 432x432 with 3 Axes>"
      ]
     },
     "metadata": {
      "needs_background": "light"
     },
     "output_type": "display_data"
    }
   ],
   "source": [
    "sns.jointplot(x=\"AñosActivo\", y=\"weight\", data=pdf4)"
   ]
  }
 ],
 "metadata": {
  "anaconda-cloud": {},
  "kernelspec": {
   "display_name": "Python 3",
   "language": "python",
   "name": "python3"
  },
  "language_info": {
   "codemirror_mode": {
    "name": "ipython",
    "version": 3
   },
   "file_extension": ".py",
   "mimetype": "text/x-python",
   "name": "python",
   "nbconvert_exporter": "python",
   "pygments_lexer": "ipython3",
   "version": "3.8.8"
  }
 },
 "nbformat": 4,
 "nbformat_minor": 2
}
