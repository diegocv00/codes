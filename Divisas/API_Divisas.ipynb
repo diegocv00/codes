{
 "cells": [
  {
   "cell_type": "code",
   "execution_count": 43,
   "id": "da66f69f",
   "metadata": {},
   "outputs": [],
   "source": [
    "# importamos librerias \n",
    "import requests\n",
    "from datetime import datetime, timedelta\n",
    "import time \n",
    "import pandas as pd"
   ]
  },
  {
   "cell_type": "code",
   "execution_count": null,
   "id": "0f78b85f",
   "metadata": {},
   "outputs": [],
   "source": [
    "API_KEY = 'e21af9c760fa509a88f68c238fc629a3'\n",
    "\n",
    "datos = []\n",
    "fecha_actual = datetime(2025, 5, 28)\n",
    "\n",
    "for i in range(20): #ejecutar para los ultimos 60 dias\n",
    "    fecha = (fecha_actual-timedelta(days=i)).strftime('%Y-%m-%d')\n",
    "    url = f\"https://data.fixer.io/api/{fecha}?access_key={API_KEY}\" # asignar fecha a la url\n",
    "    querystring = {\"base\":\"EUR\",\"symbols\":\"USD,COP,MXN\"}\n",
    "\n",
    "    response = requests.get(url, params=querystring,timeout=10)\n",
    "    data=response.json()\n",
    "\n",
    "    time.sleep(5) # Pausa de 5 segundos entre solicitudes\n",
    "\n",
    "    for moneda, valor in data['rates'].items():\n",
    "        datos.append({\n",
    "            'fecha': data['date'],\n",
    "            'moneda': moneda,\n",
    "            'valor': valor\n",
    "        })\n",
    "    print(\"finalizado dia: \", fecha)"
   ]
  },
  {
   "cell_type": "code",
   "execution_count": null,
   "id": "79fc37e2",
   "metadata": {},
   "outputs": [
    {
     "name": "stdout",
     "output_type": "stream",
     "text": [
      "[{'fecha': '2025-05-28', 'moneda': 'USD', 'valor': 1.123312}, {'fecha': '2025-05-28', 'moneda': 'COP', 'valor': 4633.918391}, {'fecha': '2025-05-28', 'moneda': 'MXN', 'valor': 21.778371}, {'fecha': '2025-05-27', 'moneda': 'USD', 'valor': 1.133646}, {'fecha': '2025-05-27', 'moneda': 'COP', 'valor': 4662.684542}, {'fecha': '2025-05-27', 'moneda': 'MXN', 'valor': 21.836594}, {'fecha': '2025-05-26', 'moneda': 'USD', 'valor': 1.138783}, {'fecha': '2025-05-26', 'moneda': 'COP', 'valor': 4728.227776}, {'fecha': '2025-05-26', 'moneda': 'MXN', 'valor': 21.919522}, {'fecha': '2025-05-25', 'moneda': 'USD', 'valor': 1.137217}, {'fecha': '2025-05-25', 'moneda': 'COP', 'valor': 4729.183278}, {'fecha': '2025-05-25', 'moneda': 'MXN', 'valor': 21.857072}, {'fecha': '2025-05-24', 'moneda': 'USD', 'valor': 1.137004}, {'fecha': '2025-05-24', 'moneda': 'COP', 'valor': 4741.443703}, {'fecha': '2025-05-24', 'moneda': 'MXN', 'valor': 21.880062}, {'fecha': '2025-05-23', 'moneda': 'USD', 'valor': 1.137004}, {'fecha': '2025-05-23', 'moneda': 'COP', 'valor': 4741.443703}, {'fecha': '2025-05-23', 'moneda': 'MXN', 'valor': 21.877499}, {'fecha': '2025-05-22', 'moneda': 'USD', 'valor': 1.128127}, {'fecha': '2025-05-22', 'moneda': 'COP', 'valor': 4711.509716}, {'fecha': '2025-05-22', 'moneda': 'MXN', 'valor': 21.800718}, {'fecha': '2025-05-21', 'moneda': 'USD', 'valor': 1.133061}, {'fecha': '2025-05-21', 'moneda': 'COP', 'valor': 4727.980375}, {'fecha': '2025-05-21', 'moneda': 'MXN', 'valor': 21.947847}, {'fecha': '2025-05-20', 'moneda': 'USD', 'valor': 1.128764}, {'fecha': '2025-05-20', 'moneda': 'COP', 'valor': 4711.121145}, {'fecha': '2025-05-20', 'moneda': 'MXN', 'valor': 21.754442}, {'fecha': '2025-05-19', 'moneda': 'USD', 'valor': 1.123267}, {'fecha': '2025-05-19', 'moneda': 'COP', 'valor': 4684.024931}, {'fecha': '2025-05-19', 'moneda': 'MXN', 'valor': 21.677954}, {'fecha': '2025-05-18', 'moneda': 'USD', 'valor': 1.118689}, {'fecha': '2025-05-18', 'moneda': 'COP', 'valor': 4714.559692}, {'fecha': '2025-05-18', 'moneda': 'MXN', 'valor': 21.766059}, {'fecha': '2025-05-17', 'moneda': 'USD', 'valor': 1.116315}, {'fecha': '2025-05-17', 'moneda': 'COP', 'valor': 4704.554582}, {'fecha': '2025-05-17', 'moneda': 'MXN', 'valor': 21.737346}, {'fecha': '2025-05-16', 'moneda': 'USD', 'valor': 1.116315}, {'fecha': '2025-05-16', 'moneda': 'COP', 'valor': 4704.554582}, {'fecha': '2025-05-16', 'moneda': 'MXN', 'valor': 21.73009}, {'fecha': '2025-05-15', 'moneda': 'USD', 'valor': 1.119232}, {'fecha': '2025-05-15', 'moneda': 'COP', 'valor': 4702.45211}, {'fecha': '2025-05-15', 'moneda': 'MXN', 'valor': 21.806607}, {'fecha': '2025-05-14', 'moneda': 'USD', 'valor': 1.118162}, {'fecha': '2025-05-14', 'moneda': 'COP', 'valor': 4703.826909}, {'fecha': '2025-05-14', 'moneda': 'MXN', 'valor': 21.676348}, {'fecha': '2025-05-13', 'moneda': 'USD', 'valor': 1.118518}, {'fecha': '2025-05-13', 'moneda': 'COP', 'valor': 4710.919431}, {'fecha': '2025-05-13', 'moneda': 'MXN', 'valor': 21.708052}, {'fecha': '2025-05-12', 'moneda': 'USD', 'valor': 1.109502}, {'fecha': '2025-05-12', 'moneda': 'COP', 'valor': 4687.36998}, {'fecha': '2025-05-12', 'moneda': 'MXN', 'valor': 21.771759}, {'fecha': '2025-05-11', 'moneda': 'USD', 'valor': 1.122926}, {'fecha': '2025-05-11', 'moneda': 'COP', 'valor': 4770.977372}, {'fecha': '2025-05-11', 'moneda': 'MXN', 'valor': 21.834844}]\n",
      "        fecha moneda        valor\n",
      "0  2025-05-28    USD     1.123312\n",
      "1  2025-05-28    COP  4633.918391\n",
      "2  2025-05-28    MXN    21.778371\n",
      "3  2025-05-27    USD     1.133646\n",
      "4  2025-05-27    COP  4662.684542\n"
     ]
    }
   ],
   "source": [
    "print(datos)\n",
    "df = pd.DataFrame(datos)\n",
    "\n",
    "print(df.head())\n",
    "df.to_csv(\"monedas.csv\", index=False, mode=\"a\", header=False)"
   ]
  },
  {
   "cell_type": "code",
   "execution_count": null,
   "id": "f1ae3b65",
   "metadata": {},
   "outputs": [],
   "source": [
    "#eliminar duplicados de csv\n",
    "df_f= pd.read_csv(\"monedas.csv\")\n",
    "df_f.drop_duplicates(inplace=True)\n",
    "\n",
    "df_f.to_csv(\"monedas.csv\", index=False)"
   ]
  }
 ],
 "metadata": {
  "kernelspec": {
   "display_name": "base",
   "language": "python",
   "name": "python3"
  },
  "language_info": {
   "codemirror_mode": {
    "name": "ipython",
    "version": 3
   },
   "file_extension": ".py",
   "mimetype": "text/x-python",
   "name": "python",
   "nbconvert_exporter": "python",
   "pygments_lexer": "ipython3",
   "version": "3.12.9"
  }
 },
 "nbformat": 4,
 "nbformat_minor": 5
}
