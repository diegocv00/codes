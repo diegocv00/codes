{
 "cells": [
  {
   "cell_type": "code",
   "execution_count": 1,
   "id": "e8f6b666-db81-4dd2-8f9d-2899dc58f03d",
   "metadata": {},
   "outputs": [],
   "source": [
    "import pandas as pd"
   ]
  },
  {
   "cell_type": "code",
   "execution_count": 2,
   "id": "d094258d-196d-4d58-8464-83940adcf966",
   "metadata": {},
   "outputs": [],
   "source": [
    "df = pd.read_csv(\"adult.data.csv\")"
   ]
  },
  {
   "cell_type": "code",
   "execution_count": 3,
   "id": "947dda7e-c701-4b82-b285-eda48d30b8cd",
   "metadata": {
    "scrolled": true
   },
   "outputs": [
    {
     "name": "stdout",
     "output_type": "stream",
     "text": [
      "<class 'pandas.core.frame.DataFrame'>\n",
      "RangeIndex: 32561 entries, 0 to 32560\n",
      "Data columns (total 15 columns):\n",
      " #   Column          Non-Null Count  Dtype \n",
      "---  ------          --------------  ----- \n",
      " 0   age             32561 non-null  int64 \n",
      " 1   workclass       32561 non-null  object\n",
      " 2   fnlwgt          32561 non-null  int64 \n",
      " 3   education       32561 non-null  object\n",
      " 4   education-num   32561 non-null  int64 \n",
      " 5   marital-status  32561 non-null  object\n",
      " 6   occupation      32561 non-null  object\n",
      " 7   relationship    32561 non-null  object\n",
      " 8   race            32561 non-null  object\n",
      " 9   sex             32561 non-null  object\n",
      " 10  capital-gain    32561 non-null  int64 \n",
      " 11  capital-loss    32561 non-null  int64 \n",
      " 12  hours-per-week  32561 non-null  int64 \n",
      " 13  native-country  32561 non-null  object\n",
      " 14  salary          32561 non-null  object\n",
      "dtypes: int64(6), object(9)\n",
      "memory usage: 3.7+ MB\n"
     ]
    }
   ],
   "source": [
    "df.info()"
   ]
  },
  {
   "cell_type": "markdown",
   "id": "13cbf60a-57db-4b5c-8189-f219ae97a5d0",
   "metadata": {},
   "source": [
    "# How many of each race are represented in this dataset? This should be a Pandas series with race names as the index labels"
   ]
  },
  {
   "cell_type": "code",
   "execution_count": 4,
   "id": "9875fd7d-b13a-4f40-ad78-8f35ce422ee6",
   "metadata": {},
   "outputs": [
    {
     "data": {
      "text/plain": [
       "race\n",
       "White                 27816\n",
       "Black                  3124\n",
       "Asian-Pac-Islander     1039\n",
       "Amer-Indian-Eskimo      311\n",
       "Other                   271\n",
       "Name: count, dtype: int64"
      ]
     },
     "execution_count": 4,
     "metadata": {},
     "output_type": "execute_result"
    }
   ],
   "source": [
    "race_count = df['race'].value_counts()\n",
    "race_count"
   ]
  },
  {
   "cell_type": "markdown",
   "id": "76022b5b-2209-4c7f-8251-e687bd28179c",
   "metadata": {},
   "source": [
    "# What is the average age of men?"
   ]
  },
  {
   "cell_type": "code",
   "execution_count": 5,
   "id": "d6a7c555-48e5-42c0-bcea-0d96508e22be",
   "metadata": {},
   "outputs": [
    {
     "data": {
      "text/plain": [
       "np.float64(39.43354749885268)"
      ]
     },
     "execution_count": 5,
     "metadata": {},
     "output_type": "execute_result"
    }
   ],
   "source": [
    "average_age_men = df.loc[df[\"sex\"] == \"Male\",\"age\"].mean()\n",
    "average_age_men"
   ]
  },
  {
   "cell_type": "markdown",
   "id": "578bd6f0-233e-4c0c-a3e3-d769184d14d2",
   "metadata": {},
   "source": [
    "# What is the percentage of people who have a Bachelor's degree?"
   ]
  },
  {
   "cell_type": "code",
   "execution_count": 6,
   "id": "80a9857d-4e2b-40b8-bf25-6a22a0595602",
   "metadata": {},
   "outputs": [
    {
     "data": {
      "text/plain": [
       "16.44605509658794"
      ]
     },
     "execution_count": 6,
     "metadata": {},
     "output_type": "execute_result"
    }
   ],
   "source": [
    "percentage_bachelors = (df.loc[df[\"education\"] == \"Bachelors\"].shape[0] / df.shape[0]) *100\n",
    "percentage_bachelors"
   ]
  },
  {
   "cell_type": "markdown",
   "id": "74131733-8028-4971-a655-5b802fcf970f",
   "metadata": {},
   "source": [
    "# What percentage of people with advanced education (`Bachelors`, `Masters`, or `Doctorate`) make more than 50K?"
   ]
  },
  {
   "cell_type": "code",
   "execution_count": 8,
   "id": "301e2f92-c35c-4dfd-937a-e3ac0605b858",
   "metadata": {},
   "outputs": [
    {
     "data": {
      "text/plain": [
       "46.535843011613935"
      ]
     },
     "execution_count": 8,
     "metadata": {},
     "output_type": "execute_result"
    }
   ],
   "source": [
    "higher_education_rich = df.loc[(df[\"salary\"] == \">50K\")&( (df[\"education\"]==\"Bachelors\") | (df[\"education\"]==\"Masters\") | (df[\"education\"]==\"Doctorate\"))].shape[0]/df.loc[(df[\"education\"]==\"Bachelors\")|(df[\"education\"]==\"Masters\")|(df[\"education\"]==\"Doctorate\")].shape[0]\n",
    "higher_education_rich*100"
   ]
  },
  {
   "cell_type": "markdown",
   "id": "91461270-f72c-427a-ac3c-0b019eb396a5",
   "metadata": {},
   "source": [
    "# What percentage of people without advanced education make more than 50K?"
   ]
  },
  {
   "cell_type": "code",
   "execution_count": 7,
   "id": "1acf8633-1d29-42ff-b1f1-cf545083c404",
   "metadata": {},
   "outputs": [
    {
     "data": {
      "text/plain": [
       "17.3713601914639"
      ]
     },
     "execution_count": 7,
     "metadata": {},
     "output_type": "execute_result"
    }
   ],
   "source": [
    "lower_education_rich = df.loc[~((df[\"education\"]==\"Bachelors\")|(df[\"education\"]==\"Masters\")|(df[\"education\"]==\"Doctorate\")) & (df[\"salary\"] == \">50K\")].shape[0]/df.loc[~((df[\"education\"]==\"Bachelors\")|(df[\"education\"]==\"Masters\")|(df[\"education\"]==\"Doctorate\"))].shape[0]\n",
    "lower_education_rich*100"
   ]
  },
  {
   "cell_type": "markdown",
   "id": "e3f7bfa2-b209-41a9-bbab-957c83ded77b",
   "metadata": {},
   "source": [
    "# What is the minimum number of hours a person works per week (hours-per-week feature)?"
   ]
  },
  {
   "cell_type": "code",
   "execution_count": 8,
   "id": "0e599c7a-ce71-488b-9864-5ddb8c4b0c82",
   "metadata": {},
   "outputs": [
    {
     "data": {
      "text/plain": [
       "np.int64(1)"
      ]
     },
     "execution_count": 8,
     "metadata": {},
     "output_type": "execute_result"
    }
   ],
   "source": [
    "min_work_hours = df[\"hours-per-week\"].min()\n",
    "min_work_hours"
   ]
  },
  {
   "cell_type": "markdown",
   "id": "e64b28f8-8b6b-43e0-a297-f1b334355286",
   "metadata": {},
   "source": [
    "# What percentage of the people who work the minimum number of hours per week have a salary of >50K?"
   ]
  },
  {
   "cell_type": "code",
   "execution_count": 21,
   "id": "008e7ac0-7129-4807-a9ec-70f632c90f20",
   "metadata": {},
   "outputs": [
    {
     "data": {
      "text/plain": [
       "10.0"
      ]
     },
     "execution_count": 21,
     "metadata": {},
     "output_type": "execute_result"
    }
   ],
   "source": [
    "num_min_workers =  df.loc[(df[\"hours-per-week\"] == 1)].shape[0]\n",
    "rich_percentage =  df.loc[(df[\"hours-per-week\"] == 1) & (df[\"salary\"] == \">50K\")].shape[0] / df.loc[(df[\"hours-per-week\"] == 1)].shape[0]\n",
    "rich_percentage*100"
   ]
  },
  {
   "cell_type": "markdown",
   "id": "40d62a58-6575-477d-a1eb-b3f156ce5e72",
   "metadata": {},
   "source": [
    "# What country has the highest percentage of people that earn >50K?"
   ]
  },
  {
   "cell_type": "code",
   "execution_count": 124,
   "id": "1baa7e81-8391-4e4b-9f01-091f4929fab3",
   "metadata": {},
   "outputs": [
    {
     "data": {
      "text/plain": [
       "native-country\n",
       "Iran    41.860465\n",
       "Name: count, dtype: float64"
      ]
     },
     "execution_count": 124,
     "metadata": {},
     "output_type": "execute_result"
    }
   ],
   "source": [
    "highest_earning_country = df.loc[df[\"salary\"] == \">50K\",\"native-country\"].value_counts()\n",
    "highest_earning_country_percentage = (highest_earning_country / df[\"native-country\"].value_counts()).sort_values(ascending=False).head(1)\n",
    "highest_earning_country_percentage*100"
   ]
  },
  {
   "cell_type": "markdown",
   "id": "e18b9451-bc83-4f6d-be39-ea8944f91214",
   "metadata": {},
   "source": [
    "# Identify the most popular occupation for those who earn >50K in India."
   ]
  },
  {
   "cell_type": "code",
   "execution_count": 84,
   "id": "257b7823-67bc-47da-b2a4-482f8d0def93",
   "metadata": {},
   "outputs": [
    {
     "data": {
      "text/plain": [
       "11    Prof-specialty\n",
       "Name: occupation, dtype: object"
      ]
     },
     "execution_count": 84,
     "metadata": {},
     "output_type": "execute_result"
    }
   ],
   "source": [
    "top_IN_occupation = df.loc[(df[\"native-country\"] == \"India\") & (df[\"salary\"] == \">50K\"),\"occupation\"].head(1)\n",
    "top_IN_occupation"
   ]
  }
 ],
 "metadata": {
  "kernelspec": {
   "display_name": "Python 3 (ipykernel)",
   "language": "python",
   "name": "python3"
  },
  "language_info": {
   "codemirror_mode": {
    "name": "ipython",
    "version": 3
   },
   "file_extension": ".py",
   "mimetype": "text/x-python",
   "name": "python",
   "nbconvert_exporter": "python",
   "pygments_lexer": "ipython3",
   "version": "3.13.2"
  }
 },
 "nbformat": 4,
 "nbformat_minor": 5
}
